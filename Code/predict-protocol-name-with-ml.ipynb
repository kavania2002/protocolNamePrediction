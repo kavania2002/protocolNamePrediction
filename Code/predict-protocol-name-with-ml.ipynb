{
 "cells": [
  {
   "cell_type": "code",
   "execution_count": 1,
   "id": "1669c82e",
   "metadata": {
    "_cell_guid": "b1076dfc-b9ad-4769-8c92-a6c4dae69d19",
    "_uuid": "8f2839f25d086af736a60e9eeb907d3b93b6e0e5",
    "execution": {
     "iopub.execute_input": "2023-04-15T17:42:49.681083Z",
     "iopub.status.busy": "2023-04-15T17:42:49.680647Z",
     "iopub.status.idle": "2023-04-15T17:42:49.698680Z",
     "shell.execute_reply": "2023-04-15T17:42:49.697305Z"
    },
    "papermill": {
     "duration": 0.035943,
     "end_time": "2023-04-15T17:42:49.701369",
     "exception": false,
     "start_time": "2023-04-15T17:42:49.665426",
     "status": "completed"
    },
    "tags": []
   },
   "outputs": [
    {
     "name": "stdout",
     "output_type": "stream",
     "text": [
      "/kaggle/input/ip-network-traffic-flows-labeled-with-87-apps/Dataset-Unicauca-Version2-87Atts.csv\n"
     ]
    }
   ],
   "source": [
    "# This Python 3 environment comes with many helpful analytics libraries installed\n",
    "# It is defined by the kaggle/python Docker image: https://github.com/kaggle/docker-python\n",
    "# For example, here's several helpful packages to load\n",
    "\n",
    "import numpy as np # linear algebra\n",
    "import pandas as pd # data processing, CSV file I/O (e.g. pd.read_csv)\n",
    "\n",
    "# Input data files are available in the read-only \"../input/\" directory\n",
    "# For example, running this (by clicking run or pressing Shift+Enter) will list all files under the input directory\n",
    "\n",
    "import os\n",
    "for dirname, _, filenames in os.walk('/kaggle/input'):\n",
    "    for filename in filenames:\n",
    "        print(os.path.join(dirname, filename))\n",
    "\n",
    "# You can write up to 20GB to the current directory (/kaggle/working/) that gets preserved as output when you create a version using \"Save & Run All\" \n",
    "# You can also write temporary files to /kaggle/temp/, but they won't be saved outside of the current session"
   ]
  },
  {
   "cell_type": "code",
   "execution_count": 2,
   "id": "384b7adf",
   "metadata": {
    "execution": {
     "iopub.execute_input": "2023-04-15T17:42:49.728276Z",
     "iopub.status.busy": "2023-04-15T17:42:49.727831Z",
     "iopub.status.idle": "2023-04-15T17:42:51.137642Z",
     "shell.execute_reply": "2023-04-15T17:42:51.136240Z"
    },
    "papermill": {
     "duration": 1.427026,
     "end_time": "2023-04-15T17:42:51.140892",
     "exception": false,
     "start_time": "2023-04-15T17:42:49.713866",
     "status": "completed"
    },
    "tags": []
   },
   "outputs": [],
   "source": [
    "# importing the required libraries\n",
    "import seaborn as sns\n",
    "import matplotlib.pyplot as plt\n",
    "from sklearn.preprocessing import LabelEncoder\n",
    "from sklearn.metrics import f1_score"
   ]
  },
  {
   "cell_type": "code",
   "execution_count": 3,
   "id": "40ca55f7",
   "metadata": {
    "execution": {
     "iopub.execute_input": "2023-04-15T17:42:51.169801Z",
     "iopub.status.busy": "2023-04-15T17:42:51.169383Z",
     "iopub.status.idle": "2023-04-15T17:42:51.560054Z",
     "shell.execute_reply": "2023-04-15T17:42:51.558994Z"
    },
    "papermill": {
     "duration": 0.407843,
     "end_time": "2023-04-15T17:42:51.562861",
     "exception": false,
     "start_time": "2023-04-15T17:42:51.155018",
     "status": "completed"
    },
    "tags": []
   },
   "outputs": [],
   "source": [
    "# importing algorithms\n",
    "from sklearn.model_selection import train_test_split\n",
    "from sklearn.ensemble import RandomForestClassifier\n",
    "from sklearn.preprocessing import StandardScaler\n",
    "from sklearn.linear_model import LogisticRegression\n",
    "from sklearn.metrics import confusion_matrix, accuracy_score, ConfusionMatrixDisplay, classification_report\n",
    "from sklearn.decomposition import PCA\n",
    "from sklearn.model_selection import KFold\n",
    "from sklearn.naive_bayes import MultinomialNB\n",
    "from sklearn.tree import DecisionTreeClassifier\n",
    "from sklearn.metrics import roc_curve, roc_auc_score\n",
    "\n",
    "sc = StandardScaler()"
   ]
  },
  {
   "cell_type": "markdown",
   "id": "a649b19f",
   "metadata": {
    "papermill": {
     "duration": 0.012588,
     "end_time": "2023-04-15T17:42:51.587793",
     "exception": false,
     "start_time": "2023-04-15T17:42:51.575205",
     "status": "completed"
    },
    "tags": []
   },
   "source": [
    "## Reading the data from csv file"
   ]
  },
  {
   "cell_type": "code",
   "execution_count": 4,
   "id": "07147b69",
   "metadata": {
    "execution": {
     "iopub.execute_input": "2023-04-15T17:42:51.615286Z",
     "iopub.status.busy": "2023-04-15T17:42:51.614829Z",
     "iopub.status.idle": "2023-04-15T17:44:02.668448Z",
     "shell.execute_reply": "2023-04-15T17:44:02.667115Z"
    },
    "papermill": {
     "duration": 71.083791,
     "end_time": "2023-04-15T17:44:02.684297",
     "exception": false,
     "start_time": "2023-04-15T17:42:51.600506",
     "status": "completed"
    },
    "tags": []
   },
   "outputs": [
    {
     "data": {
      "text/html": [
       "<div>\n",
       "<style scoped>\n",
       "    .dataframe tbody tr th:only-of-type {\n",
       "        vertical-align: middle;\n",
       "    }\n",
       "\n",
       "    .dataframe tbody tr th {\n",
       "        vertical-align: top;\n",
       "    }\n",
       "\n",
       "    .dataframe thead th {\n",
       "        text-align: right;\n",
       "    }\n",
       "</style>\n",
       "<table border=\"1\" class=\"dataframe\">\n",
       "  <thead>\n",
       "    <tr style=\"text-align: right;\">\n",
       "      <th></th>\n",
       "      <th>Flow.ID</th>\n",
       "      <th>Source.IP</th>\n",
       "      <th>Source.Port</th>\n",
       "      <th>Destination.IP</th>\n",
       "      <th>Destination.Port</th>\n",
       "      <th>Protocol</th>\n",
       "      <th>Timestamp</th>\n",
       "      <th>Flow.Duration</th>\n",
       "      <th>Total.Fwd.Packets</th>\n",
       "      <th>Total.Backward.Packets</th>\n",
       "      <th>...</th>\n",
       "      <th>Active.Std</th>\n",
       "      <th>Active.Max</th>\n",
       "      <th>Active.Min</th>\n",
       "      <th>Idle.Mean</th>\n",
       "      <th>Idle.Std</th>\n",
       "      <th>Idle.Max</th>\n",
       "      <th>Idle.Min</th>\n",
       "      <th>Label</th>\n",
       "      <th>L7Protocol</th>\n",
       "      <th>ProtocolName</th>\n",
       "    </tr>\n",
       "  </thead>\n",
       "  <tbody>\n",
       "    <tr>\n",
       "      <th>0</th>\n",
       "      <td>172.19.1.46-10.200.7.7-52422-3128-6</td>\n",
       "      <td>172.19.1.46</td>\n",
       "      <td>52422</td>\n",
       "      <td>10.200.7.7</td>\n",
       "      <td>3128</td>\n",
       "      <td>6</td>\n",
       "      <td>26/04/201711:11:17</td>\n",
       "      <td>45523</td>\n",
       "      <td>22</td>\n",
       "      <td>55</td>\n",
       "      <td>...</td>\n",
       "      <td>0.0</td>\n",
       "      <td>0.0</td>\n",
       "      <td>0.0</td>\n",
       "      <td>0.0</td>\n",
       "      <td>0.0</td>\n",
       "      <td>0.0</td>\n",
       "      <td>0.0</td>\n",
       "      <td>BENIGN</td>\n",
       "      <td>131</td>\n",
       "      <td>HTTP_PROXY</td>\n",
       "    </tr>\n",
       "    <tr>\n",
       "      <th>1</th>\n",
       "      <td>172.19.1.46-10.200.7.7-52422-3128-6</td>\n",
       "      <td>10.200.7.7</td>\n",
       "      <td>3128</td>\n",
       "      <td>172.19.1.46</td>\n",
       "      <td>52422</td>\n",
       "      <td>6</td>\n",
       "      <td>26/04/201711:11:17</td>\n",
       "      <td>1</td>\n",
       "      <td>2</td>\n",
       "      <td>0</td>\n",
       "      <td>...</td>\n",
       "      <td>0.0</td>\n",
       "      <td>0.0</td>\n",
       "      <td>0.0</td>\n",
       "      <td>0.0</td>\n",
       "      <td>0.0</td>\n",
       "      <td>0.0</td>\n",
       "      <td>0.0</td>\n",
       "      <td>BENIGN</td>\n",
       "      <td>131</td>\n",
       "      <td>HTTP_PROXY</td>\n",
       "    </tr>\n",
       "    <tr>\n",
       "      <th>2</th>\n",
       "      <td>10.200.7.217-50.31.185.39-38848-80-6</td>\n",
       "      <td>50.31.185.39</td>\n",
       "      <td>80</td>\n",
       "      <td>10.200.7.217</td>\n",
       "      <td>38848</td>\n",
       "      <td>6</td>\n",
       "      <td>26/04/201711:11:17</td>\n",
       "      <td>1</td>\n",
       "      <td>3</td>\n",
       "      <td>0</td>\n",
       "      <td>...</td>\n",
       "      <td>0.0</td>\n",
       "      <td>0.0</td>\n",
       "      <td>0.0</td>\n",
       "      <td>0.0</td>\n",
       "      <td>0.0</td>\n",
       "      <td>0.0</td>\n",
       "      <td>0.0</td>\n",
       "      <td>BENIGN</td>\n",
       "      <td>7</td>\n",
       "      <td>HTTP</td>\n",
       "    </tr>\n",
       "    <tr>\n",
       "      <th>3</th>\n",
       "      <td>10.200.7.217-50.31.185.39-38848-80-6</td>\n",
       "      <td>50.31.185.39</td>\n",
       "      <td>80</td>\n",
       "      <td>10.200.7.217</td>\n",
       "      <td>38848</td>\n",
       "      <td>6</td>\n",
       "      <td>26/04/201711:11:17</td>\n",
       "      <td>217</td>\n",
       "      <td>1</td>\n",
       "      <td>3</td>\n",
       "      <td>...</td>\n",
       "      <td>0.0</td>\n",
       "      <td>0.0</td>\n",
       "      <td>0.0</td>\n",
       "      <td>0.0</td>\n",
       "      <td>0.0</td>\n",
       "      <td>0.0</td>\n",
       "      <td>0.0</td>\n",
       "      <td>BENIGN</td>\n",
       "      <td>7</td>\n",
       "      <td>HTTP</td>\n",
       "    </tr>\n",
       "    <tr>\n",
       "      <th>4</th>\n",
       "      <td>192.168.72.43-10.200.7.7-55961-3128-6</td>\n",
       "      <td>192.168.72.43</td>\n",
       "      <td>55961</td>\n",
       "      <td>10.200.7.7</td>\n",
       "      <td>3128</td>\n",
       "      <td>6</td>\n",
       "      <td>26/04/201711:11:17</td>\n",
       "      <td>78068</td>\n",
       "      <td>5</td>\n",
       "      <td>0</td>\n",
       "      <td>...</td>\n",
       "      <td>0.0</td>\n",
       "      <td>0.0</td>\n",
       "      <td>0.0</td>\n",
       "      <td>0.0</td>\n",
       "      <td>0.0</td>\n",
       "      <td>0.0</td>\n",
       "      <td>0.0</td>\n",
       "      <td>BENIGN</td>\n",
       "      <td>131</td>\n",
       "      <td>HTTP_PROXY</td>\n",
       "    </tr>\n",
       "  </tbody>\n",
       "</table>\n",
       "<p>5 rows × 87 columns</p>\n",
       "</div>"
      ],
      "text/plain": [
       "                                 Flow.ID      Source.IP  Source.Port  \\\n",
       "0    172.19.1.46-10.200.7.7-52422-3128-6    172.19.1.46        52422   \n",
       "1    172.19.1.46-10.200.7.7-52422-3128-6     10.200.7.7         3128   \n",
       "2   10.200.7.217-50.31.185.39-38848-80-6   50.31.185.39           80   \n",
       "3   10.200.7.217-50.31.185.39-38848-80-6   50.31.185.39           80   \n",
       "4  192.168.72.43-10.200.7.7-55961-3128-6  192.168.72.43        55961   \n",
       "\n",
       "  Destination.IP  Destination.Port  Protocol           Timestamp  \\\n",
       "0     10.200.7.7              3128         6  26/04/201711:11:17   \n",
       "1    172.19.1.46             52422         6  26/04/201711:11:17   \n",
       "2   10.200.7.217             38848         6  26/04/201711:11:17   \n",
       "3   10.200.7.217             38848         6  26/04/201711:11:17   \n",
       "4     10.200.7.7              3128         6  26/04/201711:11:17   \n",
       "\n",
       "   Flow.Duration  Total.Fwd.Packets  Total.Backward.Packets  ...  Active.Std  \\\n",
       "0          45523                 22                      55  ...         0.0   \n",
       "1              1                  2                       0  ...         0.0   \n",
       "2              1                  3                       0  ...         0.0   \n",
       "3            217                  1                       3  ...         0.0   \n",
       "4          78068                  5                       0  ...         0.0   \n",
       "\n",
       "   Active.Max  Active.Min  Idle.Mean  Idle.Std  Idle.Max  Idle.Min   Label  \\\n",
       "0         0.0         0.0        0.0       0.0       0.0       0.0  BENIGN   \n",
       "1         0.0         0.0        0.0       0.0       0.0       0.0  BENIGN   \n",
       "2         0.0         0.0        0.0       0.0       0.0       0.0  BENIGN   \n",
       "3         0.0         0.0        0.0       0.0       0.0       0.0  BENIGN   \n",
       "4         0.0         0.0        0.0       0.0       0.0       0.0  BENIGN   \n",
       "\n",
       "   L7Protocol  ProtocolName  \n",
       "0         131    HTTP_PROXY  \n",
       "1         131    HTTP_PROXY  \n",
       "2           7          HTTP  \n",
       "3           7          HTTP  \n",
       "4         131    HTTP_PROXY  \n",
       "\n",
       "[5 rows x 87 columns]"
      ]
     },
     "execution_count": 4,
     "metadata": {},
     "output_type": "execute_result"
    }
   ],
   "source": [
    "data = pd.read_csv(\"/kaggle/input/ip-network-traffic-flows-labeled-with-87-apps/Dataset-Unicauca-Version2-87Atts.csv\")\n",
    "data.head()"
   ]
  },
  {
   "cell_type": "code",
   "execution_count": 5,
   "id": "ab81ee57",
   "metadata": {
    "execution": {
     "iopub.execute_input": "2023-04-15T17:44:02.712769Z",
     "iopub.status.busy": "2023-04-15T17:44:02.712099Z",
     "iopub.status.idle": "2023-04-15T17:44:02.719092Z",
     "shell.execute_reply": "2023-04-15T17:44:02.717638Z"
    },
    "papermill": {
     "duration": 0.023611,
     "end_time": "2023-04-15T17:44:02.721423",
     "exception": false,
     "start_time": "2023-04-15T17:44:02.697812",
     "status": "completed"
    },
    "tags": []
   },
   "outputs": [
    {
     "name": "stdout",
     "output_type": "stream",
     "text": [
      "Number of Rows: 3577296\n",
      "Number of Columns: 87\n"
     ]
    }
   ],
   "source": [
    "print('Number of Rows: {}'.format(data.shape[0]))\n",
    "print('Number of Columns: {}'.format(data.shape[1]))"
   ]
  },
  {
   "cell_type": "markdown",
   "id": "9ef7c684",
   "metadata": {
    "papermill": {
     "duration": 0.012576,
     "end_time": "2023-04-15T17:44:02.747073",
     "exception": false,
     "start_time": "2023-04-15T17:44:02.734497",
     "status": "completed"
    },
    "tags": []
   },
   "source": [
    "## Under Sampling"
   ]
  },
  {
   "cell_type": "code",
   "execution_count": 6,
   "id": "bdd0bde4",
   "metadata": {
    "execution": {
     "iopub.execute_input": "2023-04-15T17:44:02.776015Z",
     "iopub.status.busy": "2023-04-15T17:44:02.774638Z",
     "iopub.status.idle": "2023-04-15T17:44:03.274326Z",
     "shell.execute_reply": "2023-04-15T17:44:03.273134Z"
    },
    "papermill": {
     "duration": 0.516844,
     "end_time": "2023-04-15T17:44:03.277031",
     "exception": false,
     "start_time": "2023-04-15T17:44:02.760187",
     "status": "completed"
    },
    "tags": []
   },
   "outputs": [
    {
     "name": "stdout",
     "output_type": "stream",
     "text": [
      "Number of Unique Application Names:  78\n"
     ]
    },
    {
     "data": {
      "text/plain": [
       "Text(0, 0.5, 'Frequency')"
      ]
     },
     "execution_count": 6,
     "metadata": {},
     "output_type": "execute_result"
    },
    {
     "data": {
      "image/png": "[encoded data removed]",
      "text/plain": [
       "<Figure size 640x480 with 1 Axes>"
      ]
     },
     "metadata": {},
     "output_type": "display_data"
    }
   ],
   "source": [
    "# Graph of Protocol Name vs Frequency\n",
    "freq_protocol = data['ProtocolName'].value_counts()\n",
    "# sns.histplot(freq_protocol.values())\n",
    "application_name = []\n",
    "frequency_count = []\n",
    "for key, value in freq_protocol.items():\n",
    "    application_name.append(key)\n",
    "    frequency_count.append(value)\n",
    "    \n",
    "print(\"Number of Unique Application Names: \", len(freq_protocol))    \n",
    "\n",
    "# graph of top 5 application names\n",
    "top_values = 5\n",
    "plt.bar(application_name[:top_values], frequency_count[:top_values])\n",
    "plt.xlabel(\"Application Name\")\n",
    "plt.ylabel(\"Frequency\")"
   ]
  },
  {
   "cell_type": "code",
   "execution_count": 7,
   "id": "ed7ee7c3",
   "metadata": {
    "execution": {
     "iopub.execute_input": "2023-04-15T17:44:03.306431Z",
     "iopub.status.busy": "2023-04-15T17:44:03.305296Z",
     "iopub.status.idle": "2023-04-15T17:44:03.312236Z",
     "shell.execute_reply": "2023-04-15T17:44:03.311011Z"
    },
    "papermill": {
     "duration": 0.025022,
     "end_time": "2023-04-15T17:44:03.315387",
     "exception": false,
     "start_time": "2023-04-15T17:44:03.290365",
     "status": "completed"
    },
    "tags": []
   },
   "outputs": [
    {
     "name": "stdout",
     "output_type": "stream",
     "text": [
      "['GOOGLE', 'HTTP', 'HTTP_PROXY', 'SSL', 'HTTP_CONNECT', 'YOUTUBE', 'AMAZON', 'MICROSOFT', 'GMAIL', 'WINDOWS_UPDATE', 'SKYPE', 'FACEBOOK', 'DROPBOX', 'YAHOO', 'TWITTER', 'CLOUDFLARE', 'MSN']\n"
     ]
    }
   ],
   "source": [
    "# filtering the classes which have more than 10000 rows (occurrences)\n",
    "\n",
    "requiredProtocolName = []\n",
    "for key, value in freq_protocol.items():\n",
    "    if (value >= 10000):\n",
    "        requiredProtocolName.append(key)\n",
    "\n",
    "print(requiredProtocolName)"
   ]
  },
  {
   "cell_type": "code",
   "execution_count": 8,
   "id": "ba29492d",
   "metadata": {
    "execution": {
     "iopub.execute_input": "2023-04-15T17:44:03.344023Z",
     "iopub.status.busy": "2023-04-15T17:44:03.343310Z",
     "iopub.status.idle": "2023-04-15T17:44:09.543566Z",
     "shell.execute_reply": "2023-04-15T17:44:09.542109Z"
    },
    "papermill": {
     "duration": 6.217956,
     "end_time": "2023-04-15T17:44:09.546537",
     "exception": false,
     "start_time": "2023-04-15T17:44:03.328581",
     "status": "completed"
    },
    "tags": []
   },
   "outputs": [
    {
     "data": {
      "text/plain": [
       "(170000, 87)"
      ]
     },
     "execution_count": 8,
     "metadata": {},
     "output_type": "execute_result"
    }
   ],
   "source": [
    "# taking the random 10000 data from the requiredProtocolName\n",
    "# and forming the dataset\n",
    "listofDataFrames = []\n",
    "for protocol in requiredProtocolName:\n",
    "    listofDataFrames.append(pd.DataFrame(data[data['ProtocolName'] == protocol].sample(n = 10000)))\n",
    "\n",
    "sampledData = pd.concat(listofDataFrames)\n",
    "sampledData.shape"
   ]
  },
  {
   "cell_type": "code",
   "execution_count": 9,
   "id": "7ab61333",
   "metadata": {
    "execution": {
     "iopub.execute_input": "2023-04-15T17:44:09.576189Z",
     "iopub.status.busy": "2023-04-15T17:44:09.575775Z",
     "iopub.status.idle": "2023-04-15T17:44:10.430380Z",
     "shell.execute_reply": "2023-04-15T17:44:10.429018Z"
    },
    "papermill": {
     "duration": 0.873145,
     "end_time": "2023-04-15T17:44:10.433259",
     "exception": false,
     "start_time": "2023-04-15T17:44:09.560114",
     "status": "completed"
    },
    "tags": []
   },
   "outputs": [],
   "source": [
    "# taking random rows and shuffling the dataframe\n",
    "data = sampledData.sample(frac=1, random_state=1).reset_index()\n",
    "\n",
    "# remove the rows that contains NULL values\n",
    "data.dropna(inplace=True)\n",
    "data.dropna(axis='columns')\n",
    "data.reset_index(drop=True, inplace=True)\n",
    "\n",
    "# remove columns which contains zeroes in the data\n",
    "data = data.loc[:, (data != 0).any(axis=0)]"
   ]
  },
  {
   "cell_type": "code",
   "execution_count": 10,
   "id": "e510dcce",
   "metadata": {
    "execution": {
     "iopub.execute_input": "2023-04-15T17:44:10.464135Z",
     "iopub.status.busy": "2023-04-15T17:44:10.463026Z",
     "iopub.status.idle": "2023-04-15T17:44:10.471163Z",
     "shell.execute_reply": "2023-04-15T17:44:10.469155Z"
    },
    "papermill": {
     "duration": 0.026974,
     "end_time": "2023-04-15T17:44:10.474646",
     "exception": false,
     "start_time": "2023-04-15T17:44:10.447672",
     "status": "completed"
    },
    "tags": []
   },
   "outputs": [
    {
     "name": "stdout",
     "output_type": "stream",
     "text": [
      "Shape after removing rows with NULL Values\n",
      "Number of Rows: 170000\n",
      "Number of Columns: 78\n"
     ]
    }
   ],
   "source": [
    "print('Shape after removing rows with NULL Values')\n",
    "print('Number of Rows: {}'.format(data.shape[0]))\n",
    "print('Number of Columns: {}'.format(data.shape[1]))"
   ]
  },
  {
   "cell_type": "code",
   "execution_count": 11,
   "id": "66f9a973",
   "metadata": {
    "execution": {
     "iopub.execute_input": "2023-04-15T17:44:10.505124Z",
     "iopub.status.busy": "2023-04-15T17:44:10.504538Z",
     "iopub.status.idle": "2023-04-15T17:44:11.754018Z",
     "shell.execute_reply": "2023-04-15T17:44:11.752470Z"
    },
    "papermill": {
     "duration": 1.26883,
     "end_time": "2023-04-15T17:44:11.757307",
     "exception": false,
     "start_time": "2023-04-15T17:44:10.488477",
     "status": "completed"
    },
    "tags": []
   },
   "outputs": [
    {
     "name": "stdout",
     "output_type": "stream",
     "text": [
      "{2: 'DROPBOX', 15: 'YAHOO', 13: 'TWITTER', 12: 'SSL', 4: 'GMAIL', 1: 'CLOUDFLARE', 3: 'FACEBOOK', 0: 'AMAZON', 8: 'HTTP_PROXY', 10: 'MSN', 7: 'HTTP_CONNECT', 11: 'SKYPE', 9: 'MICROSOFT', 5: 'GOOGLE', 6: 'HTTP', 14: 'WINDOWS_UPDATE', 16: 'YOUTUBE'}\n"
     ]
    }
   ],
   "source": [
    "# converting the protocol name (target column) to required format (int)\n",
    "# using LabelEncoder function from sklearn.preprocession library\n",
    "encoder = LabelEncoder().fit(data['ProtocolName'])\n",
    "data['ProtocolName'] = encoder.transform(data['ProtocolName'])\n",
    "values = encoder.inverse_transform(data['ProtocolName'])\n",
    "target_column = data['ProtocolName']\n",
    "\n",
    "# mapping the encoded value\n",
    "encoded_target_column = {}\n",
    "for i in range(len(data['ProtocolName'])):\n",
    "    encoded_target_column[data['ProtocolName'][i]] = values[i]\n",
    "\n",
    "print(encoded_target_column)"
   ]
  },
  {
   "cell_type": "code",
   "execution_count": 12,
   "id": "8ed802ba",
   "metadata": {
    "execution": {
     "iopub.execute_input": "2023-04-15T17:44:11.787513Z",
     "iopub.status.busy": "2023-04-15T17:44:11.786596Z",
     "iopub.status.idle": "2023-04-15T17:44:11.794541Z",
     "shell.execute_reply": "2023-04-15T17:44:11.793366Z"
    },
    "papermill": {
     "duration": 0.025796,
     "end_time": "2023-04-15T17:44:11.797084",
     "exception": false,
     "start_time": "2023-04-15T17:44:11.771288",
     "status": "completed"
    },
    "tags": []
   },
   "outputs": [
    {
     "data": {
      "text/plain": [
       "Index(['index', 'Flow.ID', 'Source.IP', 'Source.Port', 'Destination.IP',\n",
       "       'Destination.Port', 'Protocol', 'Timestamp', 'Flow.Duration',\n",
       "       'Total.Fwd.Packets', 'Total.Backward.Packets',\n",
       "       'Total.Length.of.Fwd.Packets', 'Total.Length.of.Bwd.Packets',\n",
       "       'Fwd.Packet.Length.Max', 'Fwd.Packet.Length.Min',\n",
       "       'Fwd.Packet.Length.Mean', 'Fwd.Packet.Length.Std',\n",
       "       'Bwd.Packet.Length.Max', 'Bwd.Packet.Length.Min',\n",
       "       'Bwd.Packet.Length.Mean', 'Bwd.Packet.Length.Std', 'Flow.Bytes.s',\n",
       "       'Flow.Packets.s', 'Flow.IAT.Mean', 'Flow.IAT.Std', 'Flow.IAT.Max',\n",
       "       'Flow.IAT.Min', 'Fwd.IAT.Total', 'Fwd.IAT.Mean', 'Fwd.IAT.Std',\n",
       "       'Fwd.IAT.Max', 'Fwd.IAT.Min', 'Bwd.IAT.Total', 'Bwd.IAT.Mean',\n",
       "       'Bwd.IAT.Std', 'Bwd.IAT.Max', 'Bwd.IAT.Min', 'Fwd.PSH.Flags',\n",
       "       'Fwd.Header.Length', 'Bwd.Header.Length', 'Fwd.Packets.s',\n",
       "       'Bwd.Packets.s', 'Min.Packet.Length', 'Max.Packet.Length',\n",
       "       'Packet.Length.Mean', 'Packet.Length.Std', 'Packet.Length.Variance',\n",
       "       'FIN.Flag.Count', 'SYN.Flag.Count', 'RST.Flag.Count', 'PSH.Flag.Count',\n",
       "       'ACK.Flag.Count', 'URG.Flag.Count', 'ECE.Flag.Count', 'Down.Up.Ratio',\n",
       "       'Average.Packet.Size', 'Avg.Fwd.Segment.Size', 'Avg.Bwd.Segment.Size',\n",
       "       'Fwd.Header.Length.1', 'Subflow.Fwd.Packets', 'Subflow.Fwd.Bytes',\n",
       "       'Subflow.Bwd.Packets', 'Subflow.Bwd.Bytes', 'Init_Win_bytes_forward',\n",
       "       'Init_Win_bytes_backward', 'act_data_pkt_fwd', 'min_seg_size_forward',\n",
       "       'Active.Mean', 'Active.Std', 'Active.Max', 'Active.Min', 'Idle.Mean',\n",
       "       'Idle.Std', 'Idle.Max', 'Idle.Min', 'Label', 'L7Protocol',\n",
       "       'ProtocolName'],\n",
       "      dtype='object')"
      ]
     },
     "execution_count": 12,
     "metadata": {},
     "output_type": "execute_result"
    }
   ],
   "source": [
    "# get all the column heads\n",
    "data.columns"
   ]
  },
  {
   "cell_type": "code",
   "execution_count": 13,
   "id": "6ff490c9",
   "metadata": {
    "execution": {
     "iopub.execute_input": "2023-04-15T17:44:11.826301Z",
     "iopub.status.busy": "2023-04-15T17:44:11.825855Z",
     "iopub.status.idle": "2023-04-15T17:44:12.138145Z",
     "shell.execute_reply": "2023-04-15T17:44:12.136883Z"
    },
    "papermill": {
     "duration": 0.33034,
     "end_time": "2023-04-15T17:44:12.141013",
     "exception": false,
     "start_time": "2023-04-15T17:44:11.810673",
     "status": "completed"
    },
    "tags": []
   },
   "outputs": [],
   "source": [
    "# removing extra columns that are not useful for finding correlation\n",
    "# axis = 1 because we need to drop the columns\n",
    "# by default axis = 0 (drop the rows)\n",
    "dataset = data.drop(['Flow.ID','Source.IP','Label', 'Timestamp','Destination.IP', 'Source.Port', 'Destination.Port', 'Protocol'], axis=1)\n",
    "\n",
    "x_dataset = dataset.drop(['ProtocolName'], axis = 1)\n",
    "y_dataset = dataset['ProtocolName']\n",
    "\n",
    "# normal dataset\n",
    "X_train, X_test, y_train, y_test = train_test_split(x_dataset, y_dataset, test_size=0.2)\n",
    "X_train = sc.fit_transform(X_train)\n",
    "X_test = sc.transform(X_test)"
   ]
  },
  {
   "cell_type": "markdown",
   "id": "51bdce8a",
   "metadata": {
    "papermill": {
     "duration": 0.013509,
     "end_time": "2023-04-15T17:44:12.169125",
     "exception": false,
     "start_time": "2023-04-15T17:44:12.155616",
     "status": "completed"
    },
    "tags": []
   },
   "source": [
    "## Correlation Matrix"
   ]
  },
  {
   "cell_type": "code",
   "execution_count": 14,
   "id": "e549c3ba",
   "metadata": {
    "execution": {
     "iopub.execute_input": "2023-04-15T17:44:12.199481Z",
     "iopub.status.busy": "2023-04-15T17:44:12.198669Z",
     "iopub.status.idle": "2023-04-15T17:44:14.492679Z",
     "shell.execute_reply": "2023-04-15T17:44:14.491176Z"
    },
    "papermill": {
     "duration": 2.31243,
     "end_time": "2023-04-15T17:44:14.495434",
     "exception": false,
     "start_time": "2023-04-15T17:44:12.183004",
     "status": "completed"
    },
    "tags": []
   },
   "outputs": [
    {
     "data": {
      "text/html": [
       "<div>\n",
       "<style scoped>\n",
       "    .dataframe tbody tr th:only-of-type {\n",
       "        vertical-align: middle;\n",
       "    }\n",
       "\n",
       "    .dataframe tbody tr th {\n",
       "        vertical-align: top;\n",
       "    }\n",
       "\n",
       "    .dataframe thead th {\n",
       "        text-align: right;\n",
       "    }\n",
       "</style>\n",
       "<table border=\"1\" class=\"dataframe\">\n",
       "  <thead>\n",
       "    <tr style=\"text-align: right;\">\n",
       "      <th></th>\n",
       "      <th>index</th>\n",
       "      <th>Flow.Duration</th>\n",
       "      <th>Total.Fwd.Packets</th>\n",
       "      <th>Total.Backward.Packets</th>\n",
       "      <th>Total.Length.of.Fwd.Packets</th>\n",
       "      <th>Total.Length.of.Bwd.Packets</th>\n",
       "      <th>Fwd.Packet.Length.Max</th>\n",
       "      <th>Fwd.Packet.Length.Min</th>\n",
       "      <th>Fwd.Packet.Length.Mean</th>\n",
       "      <th>Fwd.Packet.Length.Std</th>\n",
       "      <th>...</th>\n",
       "      <th>Active.Mean</th>\n",
       "      <th>Active.Std</th>\n",
       "      <th>Active.Max</th>\n",
       "      <th>Active.Min</th>\n",
       "      <th>Idle.Mean</th>\n",
       "      <th>Idle.Std</th>\n",
       "      <th>Idle.Max</th>\n",
       "      <th>Idle.Min</th>\n",
       "      <th>L7Protocol</th>\n",
       "      <th>ProtocolName</th>\n",
       "    </tr>\n",
       "  </thead>\n",
       "  <tbody>\n",
       "    <tr>\n",
       "      <th>index</th>\n",
       "      <td>1.000000</td>\n",
       "      <td>0.038856</td>\n",
       "      <td>0.004440</td>\n",
       "      <td>0.003990</td>\n",
       "      <td>0.007338</td>\n",
       "      <td>-0.022512</td>\n",
       "      <td>-0.008649</td>\n",
       "      <td>0.010968</td>\n",
       "      <td>0.005934</td>\n",
       "      <td>-0.006571</td>\n",
       "      <td>...</td>\n",
       "      <td>-0.011802</td>\n",
       "      <td>0.008392</td>\n",
       "      <td>-0.005309</td>\n",
       "      <td>-0.016000</td>\n",
       "      <td>0.039570</td>\n",
       "      <td>0.025510</td>\n",
       "      <td>0.041554</td>\n",
       "      <td>0.036173</td>\n",
       "      <td>0.019540</td>\n",
       "      <td>-0.050274</td>\n",
       "    </tr>\n",
       "    <tr>\n",
       "      <th>Flow.Duration</th>\n",
       "      <td>0.038856</td>\n",
       "      <td>1.000000</td>\n",
       "      <td>0.093880</td>\n",
       "      <td>0.097314</td>\n",
       "      <td>0.041240</td>\n",
       "      <td>0.094560</td>\n",
       "      <td>0.186577</td>\n",
       "      <td>0.050355</td>\n",
       "      <td>0.179621</td>\n",
       "      <td>0.155620</td>\n",
       "      <td>...</td>\n",
       "      <td>0.206017</td>\n",
       "      <td>0.232186</td>\n",
       "      <td>0.270262</td>\n",
       "      <td>0.134036</td>\n",
       "      <td>0.712828</td>\n",
       "      <td>0.474007</td>\n",
       "      <td>0.754806</td>\n",
       "      <td>0.641382</td>\n",
       "      <td>0.043942</td>\n",
       "      <td>-0.094032</td>\n",
       "    </tr>\n",
       "    <tr>\n",
       "      <th>Total.Fwd.Packets</th>\n",
       "      <td>0.004440</td>\n",
       "      <td>0.093880</td>\n",
       "      <td>1.000000</td>\n",
       "      <td>0.865578</td>\n",
       "      <td>0.783131</td>\n",
       "      <td>0.392394</td>\n",
       "      <td>0.211275</td>\n",
       "      <td>0.023859</td>\n",
       "      <td>0.116744</td>\n",
       "      <td>0.048709</td>\n",
       "      <td>...</td>\n",
       "      <td>0.107905</td>\n",
       "      <td>0.067238</td>\n",
       "      <td>0.112628</td>\n",
       "      <td>0.091092</td>\n",
       "      <td>-0.007040</td>\n",
       "      <td>0.006993</td>\n",
       "      <td>-0.003751</td>\n",
       "      <td>-0.009056</td>\n",
       "      <td>0.001307</td>\n",
       "      <td>0.020826</td>\n",
       "    </tr>\n",
       "    <tr>\n",
       "      <th>Total.Backward.Packets</th>\n",
       "      <td>0.003990</td>\n",
       "      <td>0.097314</td>\n",
       "      <td>0.865578</td>\n",
       "      <td>1.000000</td>\n",
       "      <td>0.556864</td>\n",
       "      <td>0.507913</td>\n",
       "      <td>0.152100</td>\n",
       "      <td>0.013278</td>\n",
       "      <td>0.072007</td>\n",
       "      <td>0.028834</td>\n",
       "      <td>...</td>\n",
       "      <td>0.117883</td>\n",
       "      <td>0.076148</td>\n",
       "      <td>0.125120</td>\n",
       "      <td>0.098702</td>\n",
       "      <td>-0.006466</td>\n",
       "      <td>0.010307</td>\n",
       "      <td>-0.002263</td>\n",
       "      <td>-0.009239</td>\n",
       "      <td>0.006869</td>\n",
       "      <td>0.031470</td>\n",
       "    </tr>\n",
       "    <tr>\n",
       "      <th>Total.Length.of.Fwd.Packets</th>\n",
       "      <td>0.007338</td>\n",
       "      <td>0.041240</td>\n",
       "      <td>0.783131</td>\n",
       "      <td>0.556864</td>\n",
       "      <td>1.000000</td>\n",
       "      <td>0.001454</td>\n",
       "      <td>0.244344</td>\n",
       "      <td>0.027688</td>\n",
       "      <td>0.156123</td>\n",
       "      <td>0.076023</td>\n",
       "      <td>...</td>\n",
       "      <td>0.028861</td>\n",
       "      <td>0.011894</td>\n",
       "      <td>0.027588</td>\n",
       "      <td>0.026788</td>\n",
       "      <td>-0.005147</td>\n",
       "      <td>-0.001007</td>\n",
       "      <td>-0.004685</td>\n",
       "      <td>-0.005194</td>\n",
       "      <td>-0.004172</td>\n",
       "      <td>-0.004734</td>\n",
       "    </tr>\n",
       "  </tbody>\n",
       "</table>\n",
       "<p>5 rows × 70 columns</p>\n",
       "</div>"
      ],
      "text/plain": [
       "                                index  Flow.Duration  Total.Fwd.Packets  \\\n",
       "index                        1.000000       0.038856           0.004440   \n",
       "Flow.Duration                0.038856       1.000000           0.093880   \n",
       "Total.Fwd.Packets            0.004440       0.093880           1.000000   \n",
       "Total.Backward.Packets       0.003990       0.097314           0.865578   \n",
       "Total.Length.of.Fwd.Packets  0.007338       0.041240           0.783131   \n",
       "\n",
       "                             Total.Backward.Packets  \\\n",
       "index                                      0.003990   \n",
       "Flow.Duration                              0.097314   \n",
       "Total.Fwd.Packets                          0.865578   \n",
       "Total.Backward.Packets                     1.000000   \n",
       "Total.Length.of.Fwd.Packets                0.556864   \n",
       "\n",
       "                             Total.Length.of.Fwd.Packets  \\\n",
       "index                                           0.007338   \n",
       "Flow.Duration                                   0.041240   \n",
       "Total.Fwd.Packets                               0.783131   \n",
       "Total.Backward.Packets                          0.556864   \n",
       "Total.Length.of.Fwd.Packets                     1.000000   \n",
       "\n",
       "                             Total.Length.of.Bwd.Packets  \\\n",
       "index                                          -0.022512   \n",
       "Flow.Duration                                   0.094560   \n",
       "Total.Fwd.Packets                               0.392394   \n",
       "Total.Backward.Packets                          0.507913   \n",
       "Total.Length.of.Fwd.Packets                     0.001454   \n",
       "\n",
       "                             Fwd.Packet.Length.Max  Fwd.Packet.Length.Min  \\\n",
       "index                                    -0.008649               0.010968   \n",
       "Flow.Duration                             0.186577               0.050355   \n",
       "Total.Fwd.Packets                         0.211275               0.023859   \n",
       "Total.Backward.Packets                    0.152100               0.013278   \n",
       "Total.Length.of.Fwd.Packets               0.244344               0.027688   \n",
       "\n",
       "                             Fwd.Packet.Length.Mean  Fwd.Packet.Length.Std  \\\n",
       "index                                      0.005934              -0.006571   \n",
       "Flow.Duration                              0.179621               0.155620   \n",
       "Total.Fwd.Packets                          0.116744               0.048709   \n",
       "Total.Backward.Packets                     0.072007               0.028834   \n",
       "Total.Length.of.Fwd.Packets                0.156123               0.076023   \n",
       "\n",
       "                             ...  Active.Mean  Active.Std  Active.Max  \\\n",
       "index                        ...    -0.011802    0.008392   -0.005309   \n",
       "Flow.Duration                ...     0.206017    0.232186    0.270262   \n",
       "Total.Fwd.Packets            ...     0.107905    0.067238    0.112628   \n",
       "Total.Backward.Packets       ...     0.117883    0.076148    0.125120   \n",
       "Total.Length.of.Fwd.Packets  ...     0.028861    0.011894    0.027588   \n",
       "\n",
       "                             Active.Min  Idle.Mean  Idle.Std  Idle.Max  \\\n",
       "index                         -0.016000   0.039570  0.025510  0.041554   \n",
       "Flow.Duration                  0.134036   0.712828  0.474007  0.754806   \n",
       "Total.Fwd.Packets              0.091092  -0.007040  0.006993 -0.003751   \n",
       "Total.Backward.Packets         0.098702  -0.006466  0.010307 -0.002263   \n",
       "Total.Length.of.Fwd.Packets    0.026788  -0.005147 -0.001007 -0.004685   \n",
       "\n",
       "                             Idle.Min  L7Protocol  ProtocolName  \n",
       "index                        0.036173    0.019540     -0.050274  \n",
       "Flow.Duration                0.641382    0.043942     -0.094032  \n",
       "Total.Fwd.Packets           -0.009056    0.001307      0.020826  \n",
       "Total.Backward.Packets      -0.009239    0.006869      0.031470  \n",
       "Total.Length.of.Fwd.Packets -0.005194   -0.004172     -0.004734  \n",
       "\n",
       "[5 rows x 70 columns]"
      ]
     },
     "execution_count": 14,
     "metadata": {},
     "output_type": "execute_result"
    }
   ],
   "source": [
    "# finding the correlation matrix\n",
    "correlation_matrix = dataset.corr()\n",
    "correlation_matrix.head()"
   ]
  },
  {
   "cell_type": "code",
   "execution_count": 15,
   "id": "439bd310",
   "metadata": {
    "execution": {
     "iopub.execute_input": "2023-04-15T17:44:14.526363Z",
     "iopub.status.busy": "2023-04-15T17:44:14.525355Z",
     "iopub.status.idle": "2023-04-15T17:44:18.289971Z",
     "shell.execute_reply": "2023-04-15T17:44:18.288964Z"
    },
    "papermill": {
     "duration": 3.787776,
     "end_time": "2023-04-15T17:44:18.297676",
     "exception": false,
     "start_time": "2023-04-15T17:44:14.509900",
     "status": "completed"
    },
    "tags": []
   },
   "outputs": [
    {
     "data": {
      "text/plain": [
       "[]"
      ]
     },
     "execution_count": 15,
     "metadata": {},
     "output_type": "execute_result"
    },
    {
     "data": {
      "image/png": "[encoded data removed]",
      "text/plain": [
       "<Figure size 3000x3000 with 2 Axes>"
      ]
     },
     "metadata": {},
     "output_type": "display_data"
    }
   ],
   "source": [
    "# plotting the heatmap\n",
    "plt.figure(figsize=(30, 30))\n",
    "sns.heatmap(correlation_matrix, cmap='viridis')\n",
    "plt.plot()"
   ]
  },
  {
   "cell_type": "markdown",
   "id": "ff004a3e",
   "metadata": {
    "papermill": {
     "duration": 0.019838,
     "end_time": "2023-04-15T17:44:18.338091",
     "exception": false,
     "start_time": "2023-04-15T17:44:18.318253",
     "status": "completed"
    },
    "tags": []
   },
   "source": [
    "## Feature Selection via Correlation Matrix"
   ]
  },
  {
   "cell_type": "code",
   "execution_count": 16,
   "id": "5d421ebf",
   "metadata": {
    "execution": {
     "iopub.execute_input": "2023-04-15T17:44:18.380670Z",
     "iopub.status.busy": "2023-04-15T17:44:18.379869Z",
     "iopub.status.idle": "2023-04-15T17:44:18.390413Z",
     "shell.execute_reply": "2023-04-15T17:44:18.388975Z"
    },
    "papermill": {
     "duration": 0.034561,
     "end_time": "2023-04-15T17:44:18.392879",
     "exception": false,
     "start_time": "2023-04-15T17:44:18.358318",
     "status": "completed"
    },
    "tags": []
   },
   "outputs": [
    {
     "name": "stdout",
     "output_type": "stream",
     "text": [
      "Columns with absolute correlation greater than 0.01 with ProtocolName: \n",
      "\n",
      "{0.2: ['Bwd.Packet.Length.Max'], 0.19: ['Max.Packet.Length'], 0.17: ['Bwd.Packet.Length.Std', 'Packet.Length.Variance'], 0.16: ['Packet.Length.Mean', 'Packet.Length.Std'], 0.15: ['Bwd.Packet.Length.Mean', 'Avg.Bwd.Segment.Size', 'Average.Packet.Size'], 0.11: ['PSH.Flag.Count'], 0.09: ['Down.Up.Ratio', 'Init_Win_bytes_forward'], 0.07: ['Subflow.Bwd.Bytes', 'Total.Length.of.Bwd.Packets'], 0.04: ['Active.Mean', 'Active.Min', 'Bwd.Header.Length', 'Active.Max'], 0.03: ['Subflow.Bwd.Packets', 'Total.Backward.Packets', 'Fwd.Packet.Length.Max'], 0.02: ['Fwd.Header.Length', 'Fwd.Header.Length.1', 'Subflow.Fwd.Packets', 'Total.Fwd.Packets', 'Active.Std', 'FIN.Flag.Count'], -0.01: ['Init_Win_bytes_backward', 'Flow.Bytes.s'], -0.02: ['Bwd.Packets.s', 'Fwd.IAT.Min', 'Fwd.Packets.s'], -0.03: ['Fwd.Packet.Length.Std', 'Flow.Packets.s', 'Fwd.Packet.Length.Min', 'URG.Flag.Count'], -0.04: ['Avg.Fwd.Segment.Size', 'Fwd.Packet.Length.Mean'], -0.05: ['index', 'Flow.IAT.Min'], -0.06: ['Idle.Std'], -0.07: ['Fwd.IAT.Total'], -0.08: ['Bwd.IAT.Total'], -0.09: ['Flow.Duration'], -0.1: ['Idle.Min', 'Fwd.IAT.Max'], -0.11: ['Bwd.IAT.Min', 'Idle.Mean', 'Idle.Max', 'Fwd.IAT.Mean'], -0.12: ['ACK.Flag.Count'], -0.13: ['Flow.IAT.Max', 'Bwd.IAT.Std', 'Bwd.IAT.Max', 'Fwd.IAT.Std'], -0.14: ['Fwd.PSH.Flags', 'SYN.Flag.Count'], -0.15: ['Flow.IAT.Mean'], -0.16: ['Bwd.IAT.Mean', 'Flow.IAT.Std', 'min_seg_size_forward'], -0.18: ['Bwd.Packet.Length.Min'], -0.3: ['L7Protocol']}\n"
     ]
    }
   ],
   "source": [
    "sorted_corr_matrix_protocolName = correlation_matrix['ProtocolName'].sort_values(ascending=False)\n",
    "allKeys = list(sorted_corr_matrix_protocolName.keys())\n",
    "\n",
    "# removing the target column\n",
    "allKeys.remove('ProtocolName')\n",
    "\n",
    "feature_map = {}\n",
    "\n",
    "# removing the features which has less than 0.01 correlation\n",
    "# and grouping the columns which have same correlation (rounding upto 2 decimal places)\n",
    "for colName in allKeys:\n",
    "    correlation = round(sorted_corr_matrix_protocolName[colName], 2)\n",
    "    if (abs(correlation) >= 0.01):\n",
    "        if correlation in feature_map:\n",
    "            feature_map[correlation].append(colName)\n",
    "        else:\n",
    "            feature_map[correlation] = [colName]\n",
    "\n",
    "print(\"Columns with absolute correlation greater than 0.01 with ProtocolName: \\n\")\n",
    "print(feature_map)"
   ]
  },
  {
   "cell_type": "code",
   "execution_count": 17,
   "id": "2dddd503",
   "metadata": {
    "execution": {
     "iopub.execute_input": "2023-04-15T17:44:18.436477Z",
     "iopub.status.busy": "2023-04-15T17:44:18.435323Z",
     "iopub.status.idle": "2023-04-15T17:44:18.443271Z",
     "shell.execute_reply": "2023-04-15T17:44:18.441894Z"
    },
    "papermill": {
     "duration": 0.032541,
     "end_time": "2023-04-15T17:44:18.445696",
     "exception": false,
     "start_time": "2023-04-15T17:44:18.413155",
     "status": "completed"
    },
    "tags": []
   },
   "outputs": [
    {
     "name": "stdout",
     "output_type": "stream",
     "text": [
      "Number of Features to be Taken:  29\n",
      "Randomly selected columns for each correlation value: \n",
      "['Bwd.Packet.Length.Max', 'Max.Packet.Length', 'Bwd.Packet.Length.Std', 'Packet.Length.Mean', 'Bwd.Packet.Length.Mean', 'PSH.Flag.Count', 'Down.Up.Ratio', 'Subflow.Bwd.Bytes', 'Active.Max', 'Subflow.Bwd.Packets', 'Fwd.Header.Length.1', 'Flow.Bytes.s', 'Bwd.Packets.s', 'Fwd.Packet.Length.Std', 'Avg.Fwd.Segment.Size', 'index', 'Idle.Std', 'Fwd.IAT.Total', 'Bwd.IAT.Total', 'Flow.Duration', 'Idle.Min', 'Bwd.IAT.Min', 'ACK.Flag.Count', 'Fwd.IAT.Std', 'Fwd.PSH.Flags', 'Flow.IAT.Mean', 'min_seg_size_forward', 'Bwd.Packet.Length.Min', 'L7Protocol']\n"
     ]
    }
   ],
   "source": [
    "# choosing the random features from same correlated values\n",
    "final_features = []\n",
    "\n",
    "import random\n",
    "# random_columns = []\n",
    "for correlation, column_list in feature_map.items():\n",
    "    final_features.append(random.choice(column_list))\n",
    "\n",
    "print(\"Number of Features to be Taken: \", len(final_features))\n",
    "    \n",
    "print(\"Randomly selected columns for each correlation value: \")\n",
    "print(final_features)\n",
    "\n",
    "pos_value_columns = final_features"
   ]
  },
  {
   "cell_type": "code",
   "execution_count": 18,
   "id": "fb3ab3c6",
   "metadata": {
    "execution": {
     "iopub.execute_input": "2023-04-15T17:44:18.489719Z",
     "iopub.status.busy": "2023-04-15T17:44:18.488578Z",
     "iopub.status.idle": "2023-04-15T17:44:18.670304Z",
     "shell.execute_reply": "2023-04-15T17:44:18.669000Z"
    },
    "papermill": {
     "duration": 0.206966,
     "end_time": "2023-04-15T17:44:18.673088",
     "exception": false,
     "start_time": "2023-04-15T17:44:18.466122",
     "status": "completed"
    },
    "tags": []
   },
   "outputs": [
    {
     "data": {
      "text/html": [
       "<div>\n",
       "<style scoped>\n",
       "    .dataframe tbody tr th:only-of-type {\n",
       "        vertical-align: middle;\n",
       "    }\n",
       "\n",
       "    .dataframe tbody tr th {\n",
       "        vertical-align: top;\n",
       "    }\n",
       "\n",
       "    .dataframe thead th {\n",
       "        text-align: right;\n",
       "    }\n",
       "</style>\n",
       "<table border=\"1\" class=\"dataframe\">\n",
       "  <thead>\n",
       "    <tr style=\"text-align: right;\">\n",
       "      <th></th>\n",
       "      <th>Bwd.Packet.Length.Max</th>\n",
       "      <th>Max.Packet.Length</th>\n",
       "      <th>Bwd.Packet.Length.Std</th>\n",
       "      <th>Packet.Length.Mean</th>\n",
       "      <th>Bwd.Packet.Length.Mean</th>\n",
       "      <th>PSH.Flag.Count</th>\n",
       "      <th>Down.Up.Ratio</th>\n",
       "      <th>Subflow.Bwd.Bytes</th>\n",
       "      <th>Active.Max</th>\n",
       "      <th>Subflow.Bwd.Packets</th>\n",
       "      <th>...</th>\n",
       "      <th>Flow.Duration</th>\n",
       "      <th>Idle.Min</th>\n",
       "      <th>Bwd.IAT.Min</th>\n",
       "      <th>ACK.Flag.Count</th>\n",
       "      <th>Fwd.IAT.Std</th>\n",
       "      <th>Fwd.PSH.Flags</th>\n",
       "      <th>Flow.IAT.Mean</th>\n",
       "      <th>min_seg_size_forward</th>\n",
       "      <th>Bwd.Packet.Length.Min</th>\n",
       "      <th>L7Protocol</th>\n",
       "    </tr>\n",
       "  </thead>\n",
       "  <tbody>\n",
       "    <tr>\n",
       "      <th>0</th>\n",
       "      <td>4155</td>\n",
       "      <td>4155</td>\n",
       "      <td>928.625542</td>\n",
       "      <td>492.185185</td>\n",
       "      <td>472.550725</td>\n",
       "      <td>1</td>\n",
       "      <td>6</td>\n",
       "      <td>32606</td>\n",
       "      <td>997461.0</td>\n",
       "      <td>69</td>\n",
       "      <td>...</td>\n",
       "      <td>68106476</td>\n",
       "      <td>6881491.0</td>\n",
       "      <td>0.0</td>\n",
       "      <td>0</td>\n",
       "      <td>2.134830e+06</td>\n",
       "      <td>0</td>\n",
       "      <td>8.621073e+05</td>\n",
       "      <td>20</td>\n",
       "      <td>0</td>\n",
       "      <td>121</td>\n",
       "    </tr>\n",
       "    <tr>\n",
       "      <th>1</th>\n",
       "      <td>0</td>\n",
       "      <td>0</td>\n",
       "      <td>0.000000</td>\n",
       "      <td>0.000000</td>\n",
       "      <td>0.000000</td>\n",
       "      <td>0</td>\n",
       "      <td>1</td>\n",
       "      <td>0</td>\n",
       "      <td>0.0</td>\n",
       "      <td>1</td>\n",
       "      <td>...</td>\n",
       "      <td>386</td>\n",
       "      <td>0.0</td>\n",
       "      <td>0.0</td>\n",
       "      <td>1</td>\n",
       "      <td>0.000000e+00</td>\n",
       "      <td>0</td>\n",
       "      <td>3.860000e+02</td>\n",
       "      <td>32</td>\n",
       "      <td>0</td>\n",
       "      <td>70</td>\n",
       "    </tr>\n",
       "    <tr>\n",
       "      <th>2</th>\n",
       "      <td>46</td>\n",
       "      <td>46</td>\n",
       "      <td>32.526912</td>\n",
       "      <td>27.600000</td>\n",
       "      <td>23.000000</td>\n",
       "      <td>0</td>\n",
       "      <td>1</td>\n",
       "      <td>46</td>\n",
       "      <td>0.0</td>\n",
       "      <td>2</td>\n",
       "      <td>...</td>\n",
       "      <td>86827</td>\n",
       "      <td>0.0</td>\n",
       "      <td>86619.0</td>\n",
       "      <td>1</td>\n",
       "      <td>0.000000e+00</td>\n",
       "      <td>1</td>\n",
       "      <td>2.894233e+04</td>\n",
       "      <td>32</td>\n",
       "      <td>0</td>\n",
       "      <td>120</td>\n",
       "    </tr>\n",
       "    <tr>\n",
       "      <th>3</th>\n",
       "      <td>257</td>\n",
       "      <td>917</td>\n",
       "      <td>144.914918</td>\n",
       "      <td>239.142857</td>\n",
       "      <td>131.500000</td>\n",
       "      <td>1</td>\n",
       "      <td>0</td>\n",
       "      <td>526</td>\n",
       "      <td>260979.0</td>\n",
       "      <td>4</td>\n",
       "      <td>...</td>\n",
       "      <td>77644594</td>\n",
       "      <td>77381018.0</td>\n",
       "      <td>0.0</td>\n",
       "      <td>0</td>\n",
       "      <td>1.997555e+07</td>\n",
       "      <td>0</td>\n",
       "      <td>4.086558e+06</td>\n",
       "      <td>20</td>\n",
       "      <td>6</td>\n",
       "      <td>121</td>\n",
       "    </tr>\n",
       "    <tr>\n",
       "      <th>4</th>\n",
       "      <td>0</td>\n",
       "      <td>0</td>\n",
       "      <td>0.000000</td>\n",
       "      <td>0.000000</td>\n",
       "      <td>0.000000</td>\n",
       "      <td>0</td>\n",
       "      <td>0</td>\n",
       "      <td>0</td>\n",
       "      <td>0.0</td>\n",
       "      <td>0</td>\n",
       "      <td>...</td>\n",
       "      <td>142</td>\n",
       "      <td>0.0</td>\n",
       "      <td>0.0</td>\n",
       "      <td>1</td>\n",
       "      <td>0.000000e+00</td>\n",
       "      <td>0</td>\n",
       "      <td>1.420000e+02</td>\n",
       "      <td>32</td>\n",
       "      <td>0</td>\n",
       "      <td>120</td>\n",
       "    </tr>\n",
       "    <tr>\n",
       "      <th>...</th>\n",
       "      <td>...</td>\n",
       "      <td>...</td>\n",
       "      <td>...</td>\n",
       "      <td>...</td>\n",
       "      <td>...</td>\n",
       "      <td>...</td>\n",
       "      <td>...</td>\n",
       "      <td>...</td>\n",
       "      <td>...</td>\n",
       "      <td>...</td>\n",
       "      <td>...</td>\n",
       "      <td>...</td>\n",
       "      <td>...</td>\n",
       "      <td>...</td>\n",
       "      <td>...</td>\n",
       "      <td>...</td>\n",
       "      <td>...</td>\n",
       "      <td>...</td>\n",
       "      <td>...</td>\n",
       "      <td>...</td>\n",
       "      <td>...</td>\n",
       "    </tr>\n",
       "    <tr>\n",
       "      <th>169995</th>\n",
       "      <td>4096</td>\n",
       "      <td>4096</td>\n",
       "      <td>955.470353</td>\n",
       "      <td>208.666667</td>\n",
       "      <td>338.222222</td>\n",
       "      <td>1</td>\n",
       "      <td>1</td>\n",
       "      <td>6088</td>\n",
       "      <td>0.0</td>\n",
       "      <td>18</td>\n",
       "      <td>...</td>\n",
       "      <td>77139412</td>\n",
       "      <td>0.0</td>\n",
       "      <td>0.0</td>\n",
       "      <td>0</td>\n",
       "      <td>1.920400e+07</td>\n",
       "      <td>0</td>\n",
       "      <td>2.268806e+06</td>\n",
       "      <td>20</td>\n",
       "      <td>0</td>\n",
       "      <td>212</td>\n",
       "    </tr>\n",
       "    <tr>\n",
       "      <th>169996</th>\n",
       "      <td>0</td>\n",
       "      <td>6</td>\n",
       "      <td>0.000000</td>\n",
       "      <td>6.000000</td>\n",
       "      <td>0.000000</td>\n",
       "      <td>0</td>\n",
       "      <td>0</td>\n",
       "      <td>0</td>\n",
       "      <td>0.0</td>\n",
       "      <td>0</td>\n",
       "      <td>...</td>\n",
       "      <td>751</td>\n",
       "      <td>0.0</td>\n",
       "      <td>0.0</td>\n",
       "      <td>1</td>\n",
       "      <td>0.000000e+00</td>\n",
       "      <td>0</td>\n",
       "      <td>7.510000e+02</td>\n",
       "      <td>20</td>\n",
       "      <td>0</td>\n",
       "      <td>125</td>\n",
       "    </tr>\n",
       "    <tr>\n",
       "      <th>169997</th>\n",
       "      <td>2896</td>\n",
       "      <td>2896</td>\n",
       "      <td>524.682410</td>\n",
       "      <td>793.647590</td>\n",
       "      <td>1537.190616</td>\n",
       "      <td>1</td>\n",
       "      <td>1</td>\n",
       "      <td>524182</td>\n",
       "      <td>0.0</td>\n",
       "      <td>341</td>\n",
       "      <td>...</td>\n",
       "      <td>8724842</td>\n",
       "      <td>0.0</td>\n",
       "      <td>0.0</td>\n",
       "      <td>0</td>\n",
       "      <td>4.268883e+05</td>\n",
       "      <td>0</td>\n",
       "      <td>1.317952e+04</td>\n",
       "      <td>32</td>\n",
       "      <td>0</td>\n",
       "      <td>124</td>\n",
       "    </tr>\n",
       "    <tr>\n",
       "      <th>169998</th>\n",
       "      <td>6</td>\n",
       "      <td>6</td>\n",
       "      <td>0.000000</td>\n",
       "      <td>6.000000</td>\n",
       "      <td>6.000000</td>\n",
       "      <td>0</td>\n",
       "      <td>1</td>\n",
       "      <td>6</td>\n",
       "      <td>0.0</td>\n",
       "      <td>1</td>\n",
       "      <td>...</td>\n",
       "      <td>237</td>\n",
       "      <td>0.0</td>\n",
       "      <td>0.0</td>\n",
       "      <td>1</td>\n",
       "      <td>0.000000e+00</td>\n",
       "      <td>0</td>\n",
       "      <td>2.370000e+02</td>\n",
       "      <td>20</td>\n",
       "      <td>6</td>\n",
       "      <td>126</td>\n",
       "    </tr>\n",
       "    <tr>\n",
       "      <th>169999</th>\n",
       "      <td>1460</td>\n",
       "      <td>1460</td>\n",
       "      <td>485.282186</td>\n",
       "      <td>396.111111</td>\n",
       "      <td>1017.000000</td>\n",
       "      <td>0</td>\n",
       "      <td>0</td>\n",
       "      <td>6102</td>\n",
       "      <td>85567.0</td>\n",
       "      <td>6</td>\n",
       "      <td>...</td>\n",
       "      <td>115806051</td>\n",
       "      <td>52948980.0</td>\n",
       "      <td>461.0</td>\n",
       "      <td>1</td>\n",
       "      <td>2.445076e+07</td>\n",
       "      <td>1</td>\n",
       "      <td>7.237878e+06</td>\n",
       "      <td>32</td>\n",
       "      <td>574</td>\n",
       "      <td>121</td>\n",
       "    </tr>\n",
       "  </tbody>\n",
       "</table>\n",
       "<p>170000 rows × 29 columns</p>\n",
       "</div>"
      ],
      "text/plain": [
       "        Bwd.Packet.Length.Max  Max.Packet.Length  Bwd.Packet.Length.Std  \\\n",
       "0                        4155               4155             928.625542   \n",
       "1                           0                  0               0.000000   \n",
       "2                          46                 46              32.526912   \n",
       "3                         257                917             144.914918   \n",
       "4                           0                  0               0.000000   \n",
       "...                       ...                ...                    ...   \n",
       "169995                   4096               4096             955.470353   \n",
       "169996                      0                  6               0.000000   \n",
       "169997                   2896               2896             524.682410   \n",
       "169998                      6                  6               0.000000   \n",
       "169999                   1460               1460             485.282186   \n",
       "\n",
       "        Packet.Length.Mean  Bwd.Packet.Length.Mean  PSH.Flag.Count  \\\n",
       "0               492.185185              472.550725               1   \n",
       "1                 0.000000                0.000000               0   \n",
       "2                27.600000               23.000000               0   \n",
       "3               239.142857              131.500000               1   \n",
       "4                 0.000000                0.000000               0   \n",
       "...                    ...                     ...             ...   \n",
       "169995          208.666667              338.222222               1   \n",
       "169996            6.000000                0.000000               0   \n",
       "169997          793.647590             1537.190616               1   \n",
       "169998            6.000000                6.000000               0   \n",
       "169999          396.111111             1017.000000               0   \n",
       "\n",
       "        Down.Up.Ratio  Subflow.Bwd.Bytes  Active.Max  Subflow.Bwd.Packets  \\\n",
       "0                   6              32606    997461.0                   69   \n",
       "1                   1                  0         0.0                    1   \n",
       "2                   1                 46         0.0                    2   \n",
       "3                   0                526    260979.0                    4   \n",
       "4                   0                  0         0.0                    0   \n",
       "...               ...                ...         ...                  ...   \n",
       "169995              1               6088         0.0                   18   \n",
       "169996              0                  0         0.0                    0   \n",
       "169997              1             524182         0.0                  341   \n",
       "169998              1                  6         0.0                    1   \n",
       "169999              0               6102     85567.0                    6   \n",
       "\n",
       "        ...  Flow.Duration    Idle.Min  Bwd.IAT.Min  ACK.Flag.Count  \\\n",
       "0       ...       68106476   6881491.0          0.0               0   \n",
       "1       ...            386         0.0          0.0               1   \n",
       "2       ...          86827         0.0      86619.0               1   \n",
       "3       ...       77644594  77381018.0          0.0               0   \n",
       "4       ...            142         0.0          0.0               1   \n",
       "...     ...            ...         ...          ...             ...   \n",
       "169995  ...       77139412         0.0          0.0               0   \n",
       "169996  ...            751         0.0          0.0               1   \n",
       "169997  ...        8724842         0.0          0.0               0   \n",
       "169998  ...            237         0.0          0.0               1   \n",
       "169999  ...      115806051  52948980.0        461.0               1   \n",
       "\n",
       "         Fwd.IAT.Std  Fwd.PSH.Flags  Flow.IAT.Mean  min_seg_size_forward  \\\n",
       "0       2.134830e+06              0   8.621073e+05                    20   \n",
       "1       0.000000e+00              0   3.860000e+02                    32   \n",
       "2       0.000000e+00              1   2.894233e+04                    32   \n",
       "3       1.997555e+07              0   4.086558e+06                    20   \n",
       "4       0.000000e+00              0   1.420000e+02                    32   \n",
       "...              ...            ...            ...                   ...   \n",
       "169995  1.920400e+07              0   2.268806e+06                    20   \n",
       "169996  0.000000e+00              0   7.510000e+02                    20   \n",
       "169997  4.268883e+05              0   1.317952e+04                    32   \n",
       "169998  0.000000e+00              0   2.370000e+02                    20   \n",
       "169999  2.445076e+07              1   7.237878e+06                    32   \n",
       "\n",
       "        Bwd.Packet.Length.Min  L7Protocol  \n",
       "0                           0         121  \n",
       "1                           0          70  \n",
       "2                           0         120  \n",
       "3                           6         121  \n",
       "4                           0         120  \n",
       "...                       ...         ...  \n",
       "169995                      0         212  \n",
       "169996                      0         125  \n",
       "169997                      0         124  \n",
       "169998                      6         126  \n",
       "169999                    574         121  \n",
       "\n",
       "[170000 rows x 29 columns]"
      ]
     },
     "execution_count": 18,
     "metadata": {},
     "output_type": "execute_result"
    }
   ],
   "source": [
    "# final data which would be used for prediction and spltting\n",
    "data_for_prediction_featureSelection = data[pos_value_columns]\n",
    "target_column = data['ProtocolName']\n",
    "\n",
    "# splitting data for feature selection via corelation matrix\n",
    "feature_train, feature_test, target_train, target_test = train_test_split(data_for_prediction_featureSelection, target_column, test_size=0.2)\n",
    "\n",
    "sc = StandardScaler()\n",
    "feature_train = sc.fit_transform(feature_train)\n",
    "feature_test = sc.transform(feature_test)\n",
    "\n",
    "data_for_prediction_featureSelection"
   ]
  },
  {
   "cell_type": "code",
   "execution_count": 19,
   "id": "4e2979c3",
   "metadata": {
    "execution": {
     "iopub.execute_input": "2023-04-15T17:44:18.718409Z",
     "iopub.status.busy": "2023-04-15T17:44:18.717156Z",
     "iopub.status.idle": "2023-04-15T17:44:18.965902Z",
     "shell.execute_reply": "2023-04-15T17:44:18.964503Z"
    },
    "papermill": {
     "duration": 0.274542,
     "end_time": "2023-04-15T17:44:18.968849",
     "exception": false,
     "start_time": "2023-04-15T17:44:18.694307",
     "status": "completed"
    },
    "tags": []
   },
   "outputs": [],
   "source": [
    "# standardizing the dataset and spliting the original data\n",
    "feature_train_std, feature_test_std, target_train_std, target_test_std = train_test_split(x_dataset, y_dataset, test_size=0.2)\n",
    "\n",
    "sc = StandardScaler()\n",
    "feature_train_std = sc.fit_transform(feature_train_std)\n",
    "feature_test_std = sc.transform(feature_test_std)"
   ]
  },
  {
   "cell_type": "code",
   "execution_count": 20,
   "id": "b6d563be",
   "metadata": {
    "execution": {
     "iopub.execute_input": "2023-04-15T17:44:19.014254Z",
     "iopub.status.busy": "2023-04-15T17:44:19.013786Z",
     "iopub.status.idle": "2023-04-15T17:44:19.022161Z",
     "shell.execute_reply": "2023-04-15T17:44:19.020783Z"
    },
    "papermill": {
     "duration": 0.034076,
     "end_time": "2023-04-15T17:44:19.024818",
     "exception": false,
     "start_time": "2023-04-15T17:44:18.990742",
     "status": "completed"
    },
    "tags": []
   },
   "outputs": [],
   "source": [
    "final_result = {'Random Forest': {'Feature Selection': 0, 'PCA': 0, 'K-Cross Folding': 0, 'Original': 0}, 'Logistic Regression': {'Feature Selection': 0, 'PCA': 0, 'K-Cross Folding': 0, 'Original': 0},'Decision Tree': {'Feature Selection': 0, 'PCA': 0, 'K-Cross Folding': 0, 'Original': 0}}\n",
    "f1Scores = {'Random Forest': {'Feature Selection': 0, 'PCA': 0, 'K-Cross Folding': 0, 'Original': 0}, 'Logistic Regression': {'Feature Selection': 0, 'PCA': 0, 'K-Cross Folding': 0, 'Original': 0},'Decision Tree': {'Feature Selection': 0, 'PCA': 0, 'K-Cross Folding': 0, 'Original': 0}}\n",
    "numberOfFeatures = {'Random Forest': {'Feature Selection': 0, 'PCA': 0, 'K-Cross Folding': 0, 'Original': 0}, 'Logistic Regression': {'Feature Selection': 0, 'PCA': 0, 'K-Cross Folding': 0, 'Original': 0},'Decision Tree': {'Feature Selection': 0, 'PCA': 0, 'K-Cross Folding': 0, 'Original': 0}}"
   ]
  },
  {
   "cell_type": "markdown",
   "id": "c30a3da4",
   "metadata": {
    "papermill": {
     "duration": 0.021387,
     "end_time": "2023-04-15T17:44:19.067690",
     "exception": false,
     "start_time": "2023-04-15T17:44:19.046303",
     "status": "completed"
    },
    "tags": []
   },
   "source": [
    "## Principal Component Analysis"
   ]
  },
  {
   "cell_type": "code",
   "execution_count": 21,
   "id": "6695a208",
   "metadata": {
    "execution": {
     "iopub.execute_input": "2023-04-15T17:44:19.112368Z",
     "iopub.status.busy": "2023-04-15T17:44:19.111944Z",
     "iopub.status.idle": "2023-04-15T17:44:20.057269Z",
     "shell.execute_reply": "2023-04-15T17:44:20.052900Z"
    },
    "papermill": {
     "duration": 0.974321,
     "end_time": "2023-04-15T17:44:20.063211",
     "exception": false,
     "start_time": "2023-04-15T17:44:19.088890",
     "status": "completed"
    },
    "tags": []
   },
   "outputs": [
    {
     "name": "stdout",
     "output_type": "stream",
     "text": [
      "(136000, 13) (34000, 13)\n"
     ]
    }
   ],
   "source": [
    "pca = PCA(n_components=13)\n",
    "feature_train_pca = pca.fit_transform(feature_train_std)\n",
    "feature_test_pca = pca.transform(feature_test_std)\n",
    "\n",
    "print(feature_train_pca.shape, feature_test_pca.shape)"
   ]
  },
  {
   "cell_type": "markdown",
   "id": "121fa39a",
   "metadata": {
    "papermill": {
     "duration": 0.052732,
     "end_time": "2023-04-15T17:44:20.169110",
     "exception": false,
     "start_time": "2023-04-15T17:44:20.116378",
     "status": "completed"
    },
    "tags": []
   },
   "source": [
    "## Implementing ML Models"
   ]
  },
  {
   "cell_type": "markdown",
   "id": "93b1aac7",
   "metadata": {
    "papermill": {
     "duration": 0.021395,
     "end_time": "2023-04-15T17:44:20.213000",
     "exception": false,
     "start_time": "2023-04-15T17:44:20.191605",
     "status": "completed"
    },
    "tags": []
   },
   "source": [
    "### Random Forest Classifier"
   ]
  },
  {
   "cell_type": "code",
   "execution_count": 22,
   "id": "0ca163a2",
   "metadata": {
    "execution": {
     "iopub.execute_input": "2023-04-15T17:44:20.257730Z",
     "iopub.status.busy": "2023-04-15T17:44:20.257334Z",
     "iopub.status.idle": "2023-04-15T17:44:20.263244Z",
     "shell.execute_reply": "2023-04-15T17:44:20.261880Z"
    },
    "papermill": {
     "duration": 0.031334,
     "end_time": "2023-04-15T17:44:20.265719",
     "exception": false,
     "start_time": "2023-04-15T17:44:20.234385",
     "status": "completed"
    },
    "tags": []
   },
   "outputs": [],
   "source": [
    "def random_forest_classifier(feature_train, target_train):\n",
    "    randomForest = RandomForestClassifier(n_estimators=200)\n",
    "    randomForest.fit(feature_train, target_train)\n",
    "    \n",
    "    return randomForest"
   ]
  },
  {
   "cell_type": "markdown",
   "id": "8199c202",
   "metadata": {
    "papermill": {
     "duration": 0.021116,
     "end_time": "2023-04-15T17:44:20.307766",
     "exception": false,
     "start_time": "2023-04-15T17:44:20.286650",
     "status": "completed"
    },
    "tags": []
   },
   "source": [
    "#### Original Dataset"
   ]
  },
  {
   "cell_type": "code",
   "execution_count": 23,
   "id": "ba60977f",
   "metadata": {
    "execution": {
     "iopub.execute_input": "2023-04-15T17:44:20.352024Z",
     "iopub.status.busy": "2023-04-15T17:44:20.351571Z",
     "iopub.status.idle": "2023-04-15T17:47:48.380500Z",
     "shell.execute_reply": "2023-04-15T17:47:48.379111Z"
    },
    "papermill": {
     "duration": 208.054587,
     "end_time": "2023-04-15T17:47:48.383575",
     "exception": false,
     "start_time": "2023-04-15T17:44:20.328988",
     "status": "completed"
    },
    "tags": []
   },
   "outputs": [
    {
     "name": "stdout",
     "output_type": "stream",
     "text": [
      "Accuracy with Random Forest on Original Dataset 0.9556470588235294\n"
     ]
    }
   ],
   "source": [
    "# random forest on original dataset\n",
    "randomForest = random_forest_classifier(X_train, y_train)\n",
    "predictions = randomForest.predict(X_test)\n",
    "print('Accuracy with Random Forest on Original Dataset', randomForest.score(X_test, y_test))\n",
    "\n",
    "final_result['Random Forest']['Original'] = randomForest.score(X_test, y_test)\n",
    "f1Scores['Random Forest']['Original'] = f1_score(y_test, predictions, average='micro')\n",
    "numberOfFeatures['Random Forest']['Original'] = X_train.shape[1]"
   ]
  },
  {
   "cell_type": "markdown",
   "id": "68826ae6",
   "metadata": {
    "papermill": {
     "duration": 0.020739,
     "end_time": "2023-04-15T17:47:48.425434",
     "exception": false,
     "start_time": "2023-04-15T17:47:48.404695",
     "status": "completed"
    },
    "tags": []
   },
   "source": [
    "#### Feature Selection"
   ]
  },
  {
   "cell_type": "code",
   "execution_count": 24,
   "id": "49ef71e0",
   "metadata": {
    "execution": {
     "iopub.execute_input": "2023-04-15T17:47:48.470566Z",
     "iopub.status.busy": "2023-04-15T17:47:48.469366Z",
     "iopub.status.idle": "2023-04-15T17:49:56.874676Z",
     "shell.execute_reply": "2023-04-15T17:49:56.873322Z"
    },
    "papermill": {
     "duration": 128.431083,
     "end_time": "2023-04-15T17:49:56.877619",
     "exception": false,
     "start_time": "2023-04-15T17:47:48.446536",
     "status": "completed"
    },
    "tags": []
   },
   "outputs": [
    {
     "name": "stdout",
     "output_type": "stream",
     "text": [
      "Accuracy with Random Forest on Feature Selection via Correlaion Matrix 0.9814117647058823\n"
     ]
    }
   ],
   "source": [
    "# random forest on feature selection via correlation matrix data\n",
    "randomForest = random_forest_classifier(feature_train, target_train)\n",
    "predictions = randomForest.predict(feature_test)\n",
    "print('Accuracy with Random Forest on Feature Selection via Correlaion Matrix', randomForest.score(feature_test, target_test))\n",
    "\n",
    "final_result['Random Forest']['Feature Selection'] = randomForest.score(feature_test, target_test)\n",
    "f1Scores['Random Forest']['Feature Selection'] = f1_score(y_test, predictions, average='micro')\n",
    "numberOfFeatures['Random Forest']['Feature Selection'] = feature_train.shape[1]"
   ]
  },
  {
   "cell_type": "markdown",
   "id": "aeb7b6b9",
   "metadata": {
    "papermill": {
     "duration": 0.02158,
     "end_time": "2023-04-15T17:49:56.920669",
     "exception": false,
     "start_time": "2023-04-15T17:49:56.899089",
     "status": "completed"
    },
    "tags": []
   },
   "source": [
    "#### PCA"
   ]
  },
  {
   "cell_type": "code",
   "execution_count": 25,
   "id": "4028ea77",
   "metadata": {
    "execution": {
     "iopub.execute_input": "2023-04-15T17:49:56.966981Z",
     "iopub.status.busy": "2023-04-15T17:49:56.965704Z",
     "iopub.status.idle": "2023-04-15T17:53:07.881543Z",
     "shell.execute_reply": "2023-04-15T17:53:07.879429Z"
    },
    "papermill": {
     "duration": 190.94263,
     "end_time": "2023-04-15T17:53:07.885171",
     "exception": false,
     "start_time": "2023-04-15T17:49:56.942541",
     "status": "completed"
    },
    "tags": []
   },
   "outputs": [
    {
     "name": "stdout",
     "output_type": "stream",
     "text": [
      "Accuracy with Random Forest on PCA 0.6866470588235294\n"
     ]
    }
   ],
   "source": [
    "# random forest on PCA\n",
    "randomForest = random_forest_classifier(feature_train_pca, target_train_std)\n",
    "predictions = randomForest.predict(feature_test_pca)\n",
    "print('Accuracy with Random Forest on PCA', randomForest.score(feature_test_pca, target_test_std))\n",
    "\n",
    "final_result['Random Forest']['PCA'] = randomForest.score(feature_test_pca, target_test_std)\n",
    "f1Scores['Random Forest']['PCA'] = f1_score(y_test, predictions, average='micro')\n",
    "numberOfFeatures['Random Forest']['PCA'] = feature_train_pca.shape[1]"
   ]
  },
  {
   "cell_type": "markdown",
   "id": "96200b53",
   "metadata": {
    "papermill": {
     "duration": 0.021414,
     "end_time": "2023-04-15T17:53:07.928044",
     "exception": false,
     "start_time": "2023-04-15T17:53:07.906630",
     "status": "completed"
    },
    "tags": []
   },
   "source": [
    "#### K Cross Folding"
   ]
  },
  {
   "cell_type": "code",
   "execution_count": 26,
   "id": "00623152",
   "metadata": {
    "execution": {
     "iopub.execute_input": "2023-04-15T17:53:07.974448Z",
     "iopub.status.busy": "2023-04-15T17:53:07.973892Z",
     "iopub.status.idle": "2023-04-15T18:02:17.701215Z",
     "shell.execute_reply": "2023-04-15T18:02:17.700077Z"
    },
    "papermill": {
     "duration": 549.775901,
     "end_time": "2023-04-15T18:02:17.725506",
     "exception": false,
     "start_time": "2023-04-15T17:53:07.949605",
     "status": "completed"
    },
    "tags": []
   },
   "outputs": [
    {
     "name": "stdout",
     "output_type": "stream",
     "text": [
      "0.9465\n",
      "0.9451176470588235\n",
      "0.9412647058823529\n",
      "0.9464411764705882\n",
      "0.9459705882352941\n",
      "Mean accuracy: 0.9450588235294118\n"
     ]
    }
   ],
   "source": [
    "# random forest on k cross folding\n",
    "rfKcross = RandomForestClassifier(n_estimators=100, random_state=42)\n",
    "\n",
    "# Initialize k-fold cross-validation\n",
    "kfold = KFold(n_splits=5, shuffle=True, random_state=42)\n",
    "\n",
    "# Initialize empty lists to store the accuracy scores for each fold\n",
    "accuracy_scores = []\n",
    "f1_scores = []\n",
    "\n",
    "# Iterate through each fold\n",
    "for train_index, test_index in kfold.split(x_dataset):\n",
    "    # Split the data into training and testing sets for this fold\n",
    "    X_train, X_test = x_dataset.iloc[train_index], x_dataset.iloc[test_index]\n",
    "    y_train, y_test = y_dataset.iloc[train_index], y_dataset.iloc[test_index]\n",
    "\n",
    "    # Fit the random forest classifier to the training data\n",
    "    rfKcross.fit(X_train, y_train)\n",
    "\n",
    "    # Evaluate the model on the testing data and store the accuracy score\n",
    "    accuracy_scores.append(rfKcross.score(X_test, y_test))\n",
    "    f1_scores.append(f1_score(y_test, rfKcross.predict(X_test), average='micro'))\n",
    "    print(rfKcross.score(X_test,y_test))\n",
    "\n",
    "# Calculate and print the mean accuracy score across all folds\n",
    "print(\"Mean accuracy:\", sum(accuracy_scores)/len(accuracy_scores))\n",
    "final_result['Random Forest']['K-Cross Folding'] = sum(accuracy_scores)/len(accuracy_scores)\n",
    "f1Scores['Random Forest']['K-Cross Folding'] = sum(f1_scores)/len(f1_scores)\n",
    "numberOfFeatures['Random Forest']['K-Cross Folding'] = x_dataset.shape[1]"
   ]
  },
  {
   "cell_type": "markdown",
   "id": "6fb49f4b",
   "metadata": {
    "papermill": {
     "duration": 0.021911,
     "end_time": "2023-04-15T18:02:17.770407",
     "exception": false,
     "start_time": "2023-04-15T18:02:17.748496",
     "status": "completed"
    },
    "tags": []
   },
   "source": [
    "## Logistic Regression"
   ]
  },
  {
   "cell_type": "code",
   "execution_count": 27,
   "id": "647a920a",
   "metadata": {
    "execution": {
     "iopub.execute_input": "2023-04-15T18:02:17.817295Z",
     "iopub.status.busy": "2023-04-15T18:02:17.816209Z",
     "iopub.status.idle": "2023-04-15T18:02:17.822156Z",
     "shell.execute_reply": "2023-04-15T18:02:17.821203Z"
    },
    "papermill": {
     "duration": 0.032306,
     "end_time": "2023-04-15T18:02:17.824746",
     "exception": false,
     "start_time": "2023-04-15T18:02:17.792440",
     "status": "completed"
    },
    "tags": []
   },
   "outputs": [],
   "source": [
    "def logistic_regression(feature_train, target_train):\n",
    "    classifier = LogisticRegression(random_state = 0, solver='lbfgs', max_iter=100)\n",
    "    classifier.fit(feature_train, target_train)\n",
    "    \n",
    "    return classifier"
   ]
  },
  {
   "cell_type": "markdown",
   "id": "9da26ea7",
   "metadata": {
    "papermill": {
     "duration": 0.0212,
     "end_time": "2023-04-15T18:02:17.867685",
     "exception": false,
     "start_time": "2023-04-15T18:02:17.846485",
     "status": "completed"
    },
    "tags": []
   },
   "source": [
    "#### Original Dataset"
   ]
  },
  {
   "cell_type": "code",
   "execution_count": 28,
   "id": "9192d11c",
   "metadata": {
    "execution": {
     "iopub.execute_input": "2023-04-15T18:02:17.914078Z",
     "iopub.status.busy": "2023-04-15T18:02:17.913207Z",
     "iopub.status.idle": "2023-04-15T18:02:44.814070Z",
     "shell.execute_reply": "2023-04-15T18:02:44.812371Z"
    },
    "papermill": {
     "duration": 26.931532,
     "end_time": "2023-04-15T18:02:44.820843",
     "exception": false,
     "start_time": "2023-04-15T18:02:17.889311",
     "status": "completed"
    },
    "tags": []
   },
   "outputs": [
    {
     "name": "stdout",
     "output_type": "stream",
     "text": [
      "Accuracy in Logistic Regression on Original Dataset 0.18094117647058824\n"
     ]
    },
    {
     "name": "stderr",
     "output_type": "stream",
     "text": [
      "/opt/conda/lib/python3.7/site-packages/sklearn/linear_model/_logistic.py:818: ConvergenceWarning: lbfgs failed to converge (status=1):\n",
      "STOP: TOTAL NO. of ITERATIONS REACHED LIMIT.\n",
      "\n",
      "Increase the number of iterations (max_iter) or scale the data as shown in:\n",
      "    https://scikit-learn.org/stable/modules/preprocessing.html\n",
      "Please also refer to the documentation for alternative solver options:\n",
      "    https://scikit-learn.org/stable/modules/linear_model.html#logistic-regression\n",
      "  extra_warning_msg=_LOGISTIC_SOLVER_CONVERGENCE_MSG,\n"
     ]
    }
   ],
   "source": [
    "# logistic regression on original dataset\n",
    "logisticRegressionOriginal = logistic_regression(X_train, y_train)\n",
    "target_pred = logisticRegressionOriginal.predict(X_test)\n",
    "\n",
    "print('Accuracy in Logistic Regression on Original Dataset', logisticRegressionOriginal.score(X_test, y_test))\n",
    "\n",
    "final_result['Logistic Regression']['Original'] = logisticRegressionOriginal.score(X_test, y_test)\n",
    "f1Scores['Logistic Regression']['Original'] = f1_score(y_test, predictions, average='micro')\n",
    "numberOfFeatures['Logistic Regression']['Original'] = X_train.shape[1]"
   ]
  },
  {
   "cell_type": "markdown",
   "id": "79eddba8",
   "metadata": {
    "papermill": {
     "duration": 0.026499,
     "end_time": "2023-04-15T18:02:44.902386",
     "exception": false,
     "start_time": "2023-04-15T18:02:44.875887",
     "status": "completed"
    },
    "tags": []
   },
   "source": [
    "#### Feature Selection"
   ]
  },
  {
   "cell_type": "code",
   "execution_count": 29,
   "id": "ce516f31",
   "metadata": {
    "execution": {
     "iopub.execute_input": "2023-04-15T18:02:44.949224Z",
     "iopub.status.busy": "2023-04-15T18:02:44.948788Z",
     "iopub.status.idle": "2023-04-15T18:03:06.663256Z",
     "shell.execute_reply": "2023-04-15T18:03:06.654969Z"
    },
    "papermill": {
     "duration": 21.743662,
     "end_time": "2023-04-15T18:03:06.668785",
     "exception": false,
     "start_time": "2023-04-15T18:02:44.925123",
     "status": "completed"
    },
    "tags": []
   },
   "outputs": [
    {
     "name": "stdout",
     "output_type": "stream",
     "text": [
      "Accuracy in Logistic Regression on Feature Selection via Correlation Matrix 0.7931176470588235\n"
     ]
    },
    {
     "name": "stderr",
     "output_type": "stream",
     "text": [
      "/opt/conda/lib/python3.7/site-packages/sklearn/linear_model/_logistic.py:818: ConvergenceWarning: lbfgs failed to converge (status=1):\n",
      "STOP: TOTAL NO. of ITERATIONS REACHED LIMIT.\n",
      "\n",
      "Increase the number of iterations (max_iter) or scale the data as shown in:\n",
      "    https://scikit-learn.org/stable/modules/preprocessing.html\n",
      "Please also refer to the documentation for alternative solver options:\n",
      "    https://scikit-learn.org/stable/modules/linear_model.html#logistic-regression\n",
      "  extra_warning_msg=_LOGISTIC_SOLVER_CONVERGENCE_MSG,\n"
     ]
    }
   ],
   "source": [
    "# logistic regression on feature selction via correlation matrix data\n",
    "logisticRegressionFeatureSelection = logistic_regression(feature_train, target_train)\n",
    "target_pred = logisticRegressionFeatureSelection.predict(feature_test)\n",
    "\n",
    "print('Accuracy in Logistic Regression on Feature Selection via Correlation Matrix', logisticRegressionFeatureSelection.score(feature_test, target_test))\n",
    "\n",
    "final_result['Logistic Regression']['Feature Selection'] = logisticRegressionFeatureSelection.score(feature_test, target_test)\n",
    "f1Scores['Logistic Regression']['Feature Selection'] = f1_score(y_test, predictions, average='micro')\n",
    "numberOfFeatures['Logistic Regression']['Feature Selection'] = feature_train.shape[1]"
   ]
  },
  {
   "cell_type": "markdown",
   "id": "3890e134",
   "metadata": {
    "papermill": {
     "duration": 0.021936,
     "end_time": "2023-04-15T18:03:06.746375",
     "exception": false,
     "start_time": "2023-04-15T18:03:06.724439",
     "status": "completed"
    },
    "tags": []
   },
   "source": [
    "#### PCA"
   ]
  },
  {
   "cell_type": "code",
   "execution_count": 30,
   "id": "3e74db20",
   "metadata": {
    "execution": {
     "iopub.execute_input": "2023-04-15T18:03:06.792905Z",
     "iopub.status.busy": "2023-04-15T18:03:06.792509Z",
     "iopub.status.idle": "2023-04-15T18:03:27.549718Z",
     "shell.execute_reply": "2023-04-15T18:03:27.542170Z"
    },
    "papermill": {
     "duration": 20.785864,
     "end_time": "2023-04-15T18:03:27.554731",
     "exception": false,
     "start_time": "2023-04-15T18:03:06.768867",
     "status": "completed"
    },
    "tags": []
   },
   "outputs": [
    {
     "name": "stdout",
     "output_type": "stream",
     "text": [
      "Accuracy in Logistic Regression on PCA 0.29908823529411765\n"
     ]
    },
    {
     "name": "stderr",
     "output_type": "stream",
     "text": [
      "/opt/conda/lib/python3.7/site-packages/sklearn/linear_model/_logistic.py:818: ConvergenceWarning: lbfgs failed to converge (status=1):\n",
      "STOP: TOTAL NO. of ITERATIONS REACHED LIMIT.\n",
      "\n",
      "Increase the number of iterations (max_iter) or scale the data as shown in:\n",
      "    https://scikit-learn.org/stable/modules/preprocessing.html\n",
      "Please also refer to the documentation for alternative solver options:\n",
      "    https://scikit-learn.org/stable/modules/linear_model.html#logistic-regression\n",
      "  extra_warning_msg=_LOGISTIC_SOLVER_CONVERGENCE_MSG,\n"
     ]
    }
   ],
   "source": [
    "# logistic regression on PCA\n",
    "logisticRegressionPCA = logistic_regression(feature_train_pca, target_train_std)\n",
    "target_pred = logisticRegressionPCA.predict(feature_test_pca)\n",
    "\n",
    "print('Accuracy in Logistic Regression on PCA', logisticRegressionPCA.score(feature_test_pca, target_test_std))\n",
    "\n",
    "final_result['Logistic Regression']['PCA'] = logisticRegressionPCA.score(feature_test_pca, target_test_std)\n",
    "f1Scores['Logistic Regression']['PCA'] = f1_score(y_test, predictions, average='micro')\n",
    "numberOfFeatures['Logistic Regression']['PCA'] = feature_train_pca.shape[1]"
   ]
  },
  {
   "cell_type": "markdown",
   "id": "810f171b",
   "metadata": {
    "papermill": {
     "duration": 0.024812,
     "end_time": "2023-04-15T18:03:27.635496",
     "exception": false,
     "start_time": "2023-04-15T18:03:27.610684",
     "status": "completed"
    },
    "tags": []
   },
   "source": [
    "#### K Cross Folding"
   ]
  },
  {
   "cell_type": "code",
   "execution_count": 31,
   "id": "63633c87",
   "metadata": {
    "execution": {
     "iopub.execute_input": "2023-04-15T18:03:27.682636Z",
     "iopub.status.busy": "2023-04-15T18:03:27.682256Z",
     "iopub.status.idle": "2023-04-15T18:05:39.620523Z",
     "shell.execute_reply": "2023-04-15T18:05:39.618597Z"
    },
    "papermill": {
     "duration": 131.968747,
     "end_time": "2023-04-15T18:05:39.626644",
     "exception": false,
     "start_time": "2023-04-15T18:03:27.657897",
     "status": "completed"
    },
    "tags": []
   },
   "outputs": [
    {
     "name": "stderr",
     "output_type": "stream",
     "text": [
      "/opt/conda/lib/python3.7/site-packages/sklearn/linear_model/_logistic.py:818: ConvergenceWarning: lbfgs failed to converge (status=1):\n",
      "STOP: TOTAL NO. of ITERATIONS REACHED LIMIT.\n",
      "\n",
      "Increase the number of iterations (max_iter) or scale the data as shown in:\n",
      "    https://scikit-learn.org/stable/modules/preprocessing.html\n",
      "Please also refer to the documentation for alternative solver options:\n",
      "    https://scikit-learn.org/stable/modules/linear_model.html#logistic-regression\n",
      "  extra_warning_msg=_LOGISTIC_SOLVER_CONVERGENCE_MSG,\n"
     ]
    },
    {
     "name": "stdout",
     "output_type": "stream",
     "text": [
      "0.18105882352941177\n"
     ]
    },
    {
     "name": "stderr",
     "output_type": "stream",
     "text": [
      "/opt/conda/lib/python3.7/site-packages/sklearn/linear_model/_logistic.py:818: ConvergenceWarning: lbfgs failed to converge (status=1):\n",
      "STOP: TOTAL NO. of ITERATIONS REACHED LIMIT.\n",
      "\n",
      "Increase the number of iterations (max_iter) or scale the data as shown in:\n",
      "    https://scikit-learn.org/stable/modules/preprocessing.html\n",
      "Please also refer to the documentation for alternative solver options:\n",
      "    https://scikit-learn.org/stable/modules/linear_model.html#logistic-regression\n",
      "  extra_warning_msg=_LOGISTIC_SOLVER_CONVERGENCE_MSG,\n"
     ]
    },
    {
     "name": "stdout",
     "output_type": "stream",
     "text": [
      "0.1849705882352941\n"
     ]
    },
    {
     "name": "stderr",
     "output_type": "stream",
     "text": [
      "/opt/conda/lib/python3.7/site-packages/sklearn/linear_model/_logistic.py:818: ConvergenceWarning: lbfgs failed to converge (status=1):\n",
      "STOP: TOTAL NO. of ITERATIONS REACHED LIMIT.\n",
      "\n",
      "Increase the number of iterations (max_iter) or scale the data as shown in:\n",
      "    https://scikit-learn.org/stable/modules/preprocessing.html\n",
      "Please also refer to the documentation for alternative solver options:\n",
      "    https://scikit-learn.org/stable/modules/linear_model.html#logistic-regression\n",
      "  extra_warning_msg=_LOGISTIC_SOLVER_CONVERGENCE_MSG,\n"
     ]
    },
    {
     "name": "stdout",
     "output_type": "stream",
     "text": [
      "0.1856764705882353\n"
     ]
    },
    {
     "name": "stderr",
     "output_type": "stream",
     "text": [
      "/opt/conda/lib/python3.7/site-packages/sklearn/linear_model/_logistic.py:818: ConvergenceWarning: lbfgs failed to converge (status=1):\n",
      "STOP: TOTAL NO. of ITERATIONS REACHED LIMIT.\n",
      "\n",
      "Increase the number of iterations (max_iter) or scale the data as shown in:\n",
      "    https://scikit-learn.org/stable/modules/preprocessing.html\n",
      "Please also refer to the documentation for alternative solver options:\n",
      "    https://scikit-learn.org/stable/modules/linear_model.html#logistic-regression\n",
      "  extra_warning_msg=_LOGISTIC_SOLVER_CONVERGENCE_MSG,\n"
     ]
    },
    {
     "name": "stdout",
     "output_type": "stream",
     "text": [
      "0.18479411764705883\n",
      "0.18079411764705883\n",
      "Mean accuracy: 0.18345882352941176\n"
     ]
    },
    {
     "name": "stderr",
     "output_type": "stream",
     "text": [
      "/opt/conda/lib/python3.7/site-packages/sklearn/linear_model/_logistic.py:818: ConvergenceWarning: lbfgs failed to converge (status=1):\n",
      "STOP: TOTAL NO. of ITERATIONS REACHED LIMIT.\n",
      "\n",
      "Increase the number of iterations (max_iter) or scale the data as shown in:\n",
      "    https://scikit-learn.org/stable/modules/preprocessing.html\n",
      "Please also refer to the documentation for alternative solver options:\n",
      "    https://scikit-learn.org/stable/modules/linear_model.html#logistic-regression\n",
      "  extra_warning_msg=_LOGISTIC_SOLVER_CONVERGENCE_MSG,\n"
     ]
    }
   ],
   "source": [
    "# logistic regression on k cross folding\n",
    "\n",
    "kCrossLogisticRegression = LogisticRegression()\n",
    "\n",
    "kfold = KFold(n_splits=5, shuffle=True)\n",
    "\n",
    "accuracy_scores = []\n",
    "f1_scores = []\n",
    "\n",
    "for train_index, test_index in kfold.split(x_dataset):\n",
    "    # Split the data into training and testing sets for this fold\n",
    "    X_train, X_test = x_dataset.iloc[train_index], x_dataset.iloc[test_index]\n",
    "    y_train, y_test = y_dataset.iloc[train_index], y_dataset.iloc[test_index]\n",
    "\n",
    "    # Fit the logistic regression classifier to the training data\n",
    "    kCrossLogisticRegression.fit(X_train, y_train)\n",
    "\n",
    "    # Evaluate the model on the testing data and store the accuracy score\n",
    "    accuracy_scores.append(kCrossLogisticRegression.score(X_test, y_test))\n",
    "    f1_scores.append(f1_score(y_test, kCrossLogisticRegression.predict(X_test), average='micro'))\n",
    "    print(kCrossLogisticRegression.score(X_test,y_test))\n",
    "\n",
    "# Calculate and print the mean accuracy score across all folds\n",
    "print(\"Mean accuracy:\", sum(accuracy_scores)/len(accuracy_scores))\n",
    "final_result['Logistic Regression']['K-Cross Folding'] = sum(accuracy_scores)/len(accuracy_scores)\n",
    "f1Scores['Logistic Regression']['K-Cross Folding'] = sum(f1_scores)/len(f1_scores)\n",
    "numberOfFeatures['Logistic Regression']['K-Cross Folding'] = x_dataset.shape[1]"
   ]
  },
  {
   "cell_type": "markdown",
   "id": "b46d90ef",
   "metadata": {
    "papermill": {
     "duration": 0.04717,
     "end_time": "2023-04-15T18:05:39.731029",
     "exception": false,
     "start_time": "2023-04-15T18:05:39.683859",
     "status": "completed"
    },
    "tags": []
   },
   "source": [
    "## Decision Tree"
   ]
  },
  {
   "cell_type": "markdown",
   "id": "f1741159",
   "metadata": {
    "papermill": {
     "duration": 0.022911,
     "end_time": "2023-04-15T18:05:39.777431",
     "exception": false,
     "start_time": "2023-04-15T18:05:39.754520",
     "status": "completed"
    },
    "tags": []
   },
   "source": [
    "#### Orignal Data"
   ]
  },
  {
   "cell_type": "code",
   "execution_count": 32,
   "id": "1f249126",
   "metadata": {
    "execution": {
     "iopub.execute_input": "2023-04-15T18:05:39.826234Z",
     "iopub.status.busy": "2023-04-15T18:05:39.825010Z",
     "iopub.status.idle": "2023-04-15T18:05:44.671833Z",
     "shell.execute_reply": "2023-04-15T18:05:44.670370Z"
    },
    "papermill": {
     "duration": 4.874589,
     "end_time": "2023-04-15T18:05:44.675182",
     "exception": false,
     "start_time": "2023-04-15T18:05:39.800593",
     "status": "completed"
    },
    "tags": []
   },
   "outputs": [
    {
     "name": "stdout",
     "output_type": "stream",
     "text": [
      "Accuracy in Decision Tree on Original Dataset: 0.46697058823529414\n"
     ]
    }
   ],
   "source": [
    "# decision tree on normal\n",
    "decisionTreeNormal = DecisionTreeClassifier(criterion='entropy',max_depth=3, random_state=42)\n",
    "decisionTreeNormal.fit(X_train, y_train)\n",
    "target_pred = decisionTreeNormal.predict(X_test)\n",
    "accuracy = decisionTreeNormal.score(X_test, y_test)\n",
    "print(\"Accuracy in Decision Tree on Original Dataset:\", accuracy)\n",
    "final_result['Decision Tree']['Original'] = accuracy\n",
    "f1Scores['Decision Tree']['Original'] = f1_score(y_test, predictions, average='micro')\n",
    "numberOfFeatures['Decision Tree']['Original'] = X_train.shape[1]"
   ]
  },
  {
   "cell_type": "markdown",
   "id": "24365b33",
   "metadata": {
    "papermill": {
     "duration": 0.023886,
     "end_time": "2023-04-15T18:05:44.722476",
     "exception": false,
     "start_time": "2023-04-15T18:05:44.698590",
     "status": "completed"
    },
    "tags": []
   },
   "source": [
    "#### Feature Selection"
   ]
  },
  {
   "cell_type": "code",
   "execution_count": 33,
   "id": "9e5cb907",
   "metadata": {
    "execution": {
     "iopub.execute_input": "2023-04-15T18:05:44.770285Z",
     "iopub.status.busy": "2023-04-15T18:05:44.769852Z",
     "iopub.status.idle": "2023-04-15T18:05:46.710119Z",
     "shell.execute_reply": "2023-04-15T18:05:46.708683Z"
    },
    "papermill": {
     "duration": 1.967336,
     "end_time": "2023-04-15T18:05:46.712644",
     "exception": false,
     "start_time": "2023-04-15T18:05:44.745308",
     "status": "completed"
    },
    "tags": []
   },
   "outputs": [
    {
     "name": "stdout",
     "output_type": "stream",
     "text": [
      "Accuracy in Decision Tree on Normal: 0.4647352941176471\n"
     ]
    }
   ],
   "source": [
    "# decistion tree on feature selection\n",
    "\n",
    "decisionTreeNormal = DecisionTreeClassifier(criterion='entropy',max_depth=3, random_state=42)\n",
    "decisionTreeNormal.fit(feature_train, target_train)\n",
    "target_pred = decisionTreeNormal.predict(feature_test)\n",
    "accuracy = decisionTreeNormal.score(feature_test, target_test)\n",
    "print(\"Accuracy in Decision Tree on Normal:\", accuracy)\n",
    "final_result['Decision Tree']['Feature Selection'] = accuracy\n",
    "f1Scores['Decision Tree']['Feature Selection'] = f1_score(y_test, predictions, average='micro')\n",
    "numberOfFeatures['Decision Tree']['Feature Selection'] = feature_train.shape[1]"
   ]
  },
  {
   "cell_type": "markdown",
   "id": "2878271c",
   "metadata": {
    "papermill": {
     "duration": 0.022399,
     "end_time": "2023-04-15T18:05:46.757679",
     "exception": false,
     "start_time": "2023-04-15T18:05:46.735280",
     "status": "completed"
    },
    "tags": []
   },
   "source": [
    "#### PCA"
   ]
  },
  {
   "cell_type": "code",
   "execution_count": 34,
   "id": "c65d1432",
   "metadata": {
    "execution": {
     "iopub.execute_input": "2023-04-15T18:05:46.805615Z",
     "iopub.status.busy": "2023-04-15T18:05:46.805158Z",
     "iopub.status.idle": "2023-04-15T18:05:50.213279Z",
     "shell.execute_reply": "2023-04-15T18:05:50.211870Z"
    },
    "papermill": {
     "duration": 3.435267,
     "end_time": "2023-04-15T18:05:50.216036",
     "exception": false,
     "start_time": "2023-04-15T18:05:46.780769",
     "status": "completed"
    },
    "tags": []
   },
   "outputs": [
    {
     "name": "stdout",
     "output_type": "stream",
     "text": [
      "Accuracy in Decision Tree on PCA: 0.20147058823529412\n"
     ]
    }
   ],
   "source": [
    "# decistion tree on PCA\n",
    "decisionTreeNormal = DecisionTreeClassifier(criterion='entropy',max_depth=3, random_state=42)\n",
    "decisionTreeNormal.fit(feature_train_pca, target_train_std)\n",
    "target_pred = decisionTreeNormal.predict(feature_test_pca)\n",
    "accuracy = decisionTreeNormal.score(feature_test_pca, target_test_std)\n",
    "print(\"Accuracy in Decision Tree on PCA:\", accuracy)\n",
    "final_result['Decision Tree']['PCA'] = accuracy\n",
    "f1Scores['Decision Tree']['PCA'] = f1_score(y_test, predictions, average='micro')\n",
    "numberOfFeatures['Decision Tree']['PCA'] = feature_train_pca.shape[1]"
   ]
  },
  {
   "cell_type": "markdown",
   "id": "331dd8a2",
   "metadata": {
    "papermill": {
     "duration": 0.022991,
     "end_time": "2023-04-15T18:05:50.262497",
     "exception": false,
     "start_time": "2023-04-15T18:05:50.239506",
     "status": "completed"
    },
    "tags": []
   },
   "source": [
    "#### K Cross folding"
   ]
  },
  {
   "cell_type": "code",
   "execution_count": 35,
   "id": "ac547dfd",
   "metadata": {
    "execution": {
     "iopub.execute_input": "2023-04-15T18:05:50.311629Z",
     "iopub.status.busy": "2023-04-15T18:05:50.311230Z",
     "iopub.status.idle": "2023-04-15T18:06:14.854174Z",
     "shell.execute_reply": "2023-04-15T18:06:14.852998Z"
    },
    "papermill": {
     "duration": 24.570753,
     "end_time": "2023-04-15T18:06:14.856901",
     "exception": false,
     "start_time": "2023-04-15T18:05:50.286148",
     "status": "completed"
    },
    "tags": []
   },
   "outputs": [
    {
     "name": "stdout",
     "output_type": "stream",
     "text": [
      "0.4641176470588235\n",
      "0.46247058823529413\n",
      "0.46338235294117647\n",
      "0.4673529411764706\n",
      "0.4642352941176471\n",
      "Mean accuracy: 0.46431176470588237\n"
     ]
    }
   ],
   "source": [
    "# decistion tree on K Cross Folding\n",
    "decisionTreeNormal = DecisionTreeClassifier(criterion='entropy',max_depth=3, random_state=42)\n",
    "kfold = KFold(n_splits=5, shuffle=True, random_state=42)\n",
    "accuracy_scores = []\n",
    "f1_scores = []\n",
    "for train_index, test_index in kfold.split(x_dataset):\n",
    "    X_train, X_test = x_dataset.iloc[train_index], x_dataset.iloc[test_index]\n",
    "    y_train, y_test = y_dataset.iloc[train_index], y_dataset.iloc[test_index]\n",
    "    decisionTreeNormal.fit(X_train, y_train)\n",
    "    accuracy_scores.append(decisionTreeNormal.score(X_test, y_test))\n",
    "    f1_scores.append(f1_score(y_test, decisionTreeNormal.predict(X_test), average='micro'))\n",
    "    print(decisionTreeNormal.score(X_test,y_test))\n",
    "\n",
    "# Calculate and print the mean accuracy score across all folds\n",
    "print(\"Mean accuracy:\", sum(accuracy_scores)/len(accuracy_scores))\n",
    "final_result['Decision Tree']['K-Cross Folding'] = sum(accuracy_scores)/len(accuracy_scores)\n",
    "f1Scores['Decision Tree']['K-Cross Folding'] = sum(f1_scores)/len(f1_scores)\n",
    "numberOfFeatures['Decision Tree']['K-Cross Folding'] = x_dataset.shape[1]"
   ]
  },
  {
   "cell_type": "code",
   "execution_count": 36,
   "id": "1b7ae1b7",
   "metadata": {
    "execution": {
     "iopub.execute_input": "2023-04-15T18:06:14.906102Z",
     "iopub.status.busy": "2023-04-15T18:06:14.905640Z",
     "iopub.status.idle": "2023-04-15T18:06:14.929300Z",
     "shell.execute_reply": "2023-04-15T18:06:14.927969Z"
    },
    "papermill": {
     "duration": 0.051439,
     "end_time": "2023-04-15T18:06:14.931983",
     "exception": false,
     "start_time": "2023-04-15T18:06:14.880544",
     "status": "completed"
    },
    "tags": []
   },
   "outputs": [
    {
     "name": "stdout",
     "output_type": "stream",
     "text": [
      "Accuracy for each model for particular algorithm\n"
     ]
    },
    {
     "data": {
      "text/html": [
       "<div>\n",
       "<style scoped>\n",
       "    .dataframe tbody tr th:only-of-type {\n",
       "        vertical-align: middle;\n",
       "    }\n",
       "\n",
       "    .dataframe tbody tr th {\n",
       "        vertical-align: top;\n",
       "    }\n",
       "\n",
       "    .dataframe thead th {\n",
       "        text-align: right;\n",
       "    }\n",
       "</style>\n",
       "<table border=\"1\" class=\"dataframe\">\n",
       "  <thead>\n",
       "    <tr style=\"text-align: right;\">\n",
       "      <th></th>\n",
       "      <th>Random Forest</th>\n",
       "      <th>Logistic Regression</th>\n",
       "      <th>Decision Tree</th>\n",
       "    </tr>\n",
       "  </thead>\n",
       "  <tbody>\n",
       "    <tr>\n",
       "      <th>Feature Selection</th>\n",
       "      <td>0.981412</td>\n",
       "      <td>0.793118</td>\n",
       "      <td>0.464735</td>\n",
       "    </tr>\n",
       "    <tr>\n",
       "      <th>PCA</th>\n",
       "      <td>0.686647</td>\n",
       "      <td>0.299088</td>\n",
       "      <td>0.201471</td>\n",
       "    </tr>\n",
       "    <tr>\n",
       "      <th>K-Cross Folding</th>\n",
       "      <td>0.945059</td>\n",
       "      <td>0.183459</td>\n",
       "      <td>0.464312</td>\n",
       "    </tr>\n",
       "    <tr>\n",
       "      <th>Original</th>\n",
       "      <td>0.955647</td>\n",
       "      <td>0.180941</td>\n",
       "      <td>0.466971</td>\n",
       "    </tr>\n",
       "  </tbody>\n",
       "</table>\n",
       "</div>"
      ],
      "text/plain": [
       "                   Random Forest  Logistic Regression  Decision Tree\n",
       "Feature Selection       0.981412             0.793118       0.464735\n",
       "PCA                     0.686647             0.299088       0.201471\n",
       "K-Cross Folding         0.945059             0.183459       0.464312\n",
       "Original                0.955647             0.180941       0.466971"
      ]
     },
     "execution_count": 36,
     "metadata": {},
     "output_type": "execute_result"
    }
   ],
   "source": [
    "accuracy_df = pd.DataFrame(final_result)\n",
    "print(\"Accuracy for each model for particular algorithm\")\n",
    "accuracy_df"
   ]
  },
  {
   "cell_type": "code",
   "execution_count": 37,
   "id": "1e1c9fa6",
   "metadata": {
    "execution": {
     "iopub.execute_input": "2023-04-15T18:06:14.982530Z",
     "iopub.status.busy": "2023-04-15T18:06:14.982094Z",
     "iopub.status.idle": "2023-04-15T18:06:14.996887Z",
     "shell.execute_reply": "2023-04-15T18:06:14.995515Z"
    },
    "papermill": {
     "duration": 0.043246,
     "end_time": "2023-04-15T18:06:14.999608",
     "exception": false,
     "start_time": "2023-04-15T18:06:14.956362",
     "status": "completed"
    },
    "tags": []
   },
   "outputs": [
    {
     "name": "stdout",
     "output_type": "stream",
     "text": [
      "F1 Scores for each model for particular algorithm\n"
     ]
    },
    {
     "data": {
      "text/html": [
       "<div>\n",
       "<style scoped>\n",
       "    .dataframe tbody tr th:only-of-type {\n",
       "        vertical-align: middle;\n",
       "    }\n",
       "\n",
       "    .dataframe tbody tr th {\n",
       "        vertical-align: top;\n",
       "    }\n",
       "\n",
       "    .dataframe thead th {\n",
       "        text-align: right;\n",
       "    }\n",
       "</style>\n",
       "<table border=\"1\" class=\"dataframe\">\n",
       "  <thead>\n",
       "    <tr style=\"text-align: right;\">\n",
       "      <th></th>\n",
       "      <th>Random Forest</th>\n",
       "      <th>Logistic Regression</th>\n",
       "      <th>Decision Tree</th>\n",
       "    </tr>\n",
       "  </thead>\n",
       "  <tbody>\n",
       "    <tr>\n",
       "      <th>Feature Selection</th>\n",
       "      <td>0.062971</td>\n",
       "      <td>0.059706</td>\n",
       "      <td>0.058088</td>\n",
       "    </tr>\n",
       "    <tr>\n",
       "      <th>PCA</th>\n",
       "      <td>0.057265</td>\n",
       "      <td>0.059706</td>\n",
       "      <td>0.058088</td>\n",
       "    </tr>\n",
       "    <tr>\n",
       "      <th>K-Cross Folding</th>\n",
       "      <td>0.945059</td>\n",
       "      <td>0.183459</td>\n",
       "      <td>0.464312</td>\n",
       "    </tr>\n",
       "    <tr>\n",
       "      <th>Original</th>\n",
       "      <td>0.955647</td>\n",
       "      <td>0.059706</td>\n",
       "      <td>0.058088</td>\n",
       "    </tr>\n",
       "  </tbody>\n",
       "</table>\n",
       "</div>"
      ],
      "text/plain": [
       "                   Random Forest  Logistic Regression  Decision Tree\n",
       "Feature Selection       0.062971             0.059706       0.058088\n",
       "PCA                     0.057265             0.059706       0.058088\n",
       "K-Cross Folding         0.945059             0.183459       0.464312\n",
       "Original                0.955647             0.059706       0.058088"
      ]
     },
     "execution_count": 37,
     "metadata": {},
     "output_type": "execute_result"
    }
   ],
   "source": [
    "f1Score_df = pd.DataFrame(f1Scores)\n",
    "print(\"F1 Scores for each model for particular algorithm\")\n",
    "f1Score_df"
   ]
  },
  {
   "cell_type": "code",
   "execution_count": 38,
   "id": "73fcebc5",
   "metadata": {
    "execution": {
     "iopub.execute_input": "2023-04-15T18:06:15.050491Z",
     "iopub.status.busy": "2023-04-15T18:06:15.049976Z",
     "iopub.status.idle": "2023-04-15T18:06:15.063237Z",
     "shell.execute_reply": "2023-04-15T18:06:15.061884Z"
    },
    "papermill": {
     "duration": 0.041278,
     "end_time": "2023-04-15T18:06:15.065453",
     "exception": false,
     "start_time": "2023-04-15T18:06:15.024175",
     "status": "completed"
    },
    "tags": []
   },
   "outputs": [
    {
     "name": "stdout",
     "output_type": "stream",
     "text": [
      "Number of Features for each model and algorithm\n"
     ]
    },
    {
     "data": {
      "text/html": [
       "<div>\n",
       "<style scoped>\n",
       "    .dataframe tbody tr th:only-of-type {\n",
       "        vertical-align: middle;\n",
       "    }\n",
       "\n",
       "    .dataframe tbody tr th {\n",
       "        vertical-align: top;\n",
       "    }\n",
       "\n",
       "    .dataframe thead th {\n",
       "        text-align: right;\n",
       "    }\n",
       "</style>\n",
       "<table border=\"1\" class=\"dataframe\">\n",
       "  <thead>\n",
       "    <tr style=\"text-align: right;\">\n",
       "      <th></th>\n",
       "      <th>Random Forest</th>\n",
       "      <th>Logistic Regression</th>\n",
       "      <th>Decision Tree</th>\n",
       "    </tr>\n",
       "  </thead>\n",
       "  <tbody>\n",
       "    <tr>\n",
       "      <th>Feature Selection</th>\n",
       "      <td>29</td>\n",
       "      <td>29</td>\n",
       "      <td>29</td>\n",
       "    </tr>\n",
       "    <tr>\n",
       "      <th>PCA</th>\n",
       "      <td>13</td>\n",
       "      <td>13</td>\n",
       "      <td>13</td>\n",
       "    </tr>\n",
       "    <tr>\n",
       "      <th>K-Cross Folding</th>\n",
       "      <td>69</td>\n",
       "      <td>69</td>\n",
       "      <td>69</td>\n",
       "    </tr>\n",
       "    <tr>\n",
       "      <th>Original</th>\n",
       "      <td>69</td>\n",
       "      <td>69</td>\n",
       "      <td>69</td>\n",
       "    </tr>\n",
       "  </tbody>\n",
       "</table>\n",
       "</div>"
      ],
      "text/plain": [
       "                   Random Forest  Logistic Regression  Decision Tree\n",
       "Feature Selection             29                   29             29\n",
       "PCA                           13                   13             13\n",
       "K-Cross Folding               69                   69             69\n",
       "Original                      69                   69             69"
      ]
     },
     "execution_count": 38,
     "metadata": {},
     "output_type": "execute_result"
    }
   ],
   "source": [
    "features_df = pd.DataFrame(numberOfFeatures)\n",
    "print(\"Number of Features for each model and algorithm\")\n",
    "features_df"
   ]
  }
 ],
 "metadata": {
  "kernelspec": {
   "display_name": "Python 3",
   "language": "python",
   "name": "python3"
  },
  "language_info": {
   "codemirror_mode": {
    "name": "ipython",
    "version": 3
   },
   "file_extension": ".py",
   "mimetype": "text/x-python",
   "name": "python",
   "nbconvert_exporter": "python",
   "pygments_lexer": "ipython3",
   "version": "3.7.12"
  },
  "papermill": {
   "default_parameters": {},
   "duration": 1418.42162,
   "end_time": "2023-04-15T18:06:17.126802",
   "environment_variables": {},
   "exception": null,
   "input_path": "__notebook__.ipynb",
   "output_path": "__notebook__.ipynb",
   "parameters": {},
   "start_time": "2023-04-15T17:42:38.705182",
   "version": "2.4.0"
  }
 },
 "nbformat": 4,
 "nbformat_minor": 5
}
